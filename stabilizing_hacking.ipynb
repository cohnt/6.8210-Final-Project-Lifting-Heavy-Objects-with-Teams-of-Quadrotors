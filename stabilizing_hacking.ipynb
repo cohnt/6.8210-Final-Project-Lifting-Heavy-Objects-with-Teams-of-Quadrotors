{
 "cells": [
  {
   "cell_type": "code",
   "execution_count": 39,
   "id": "5fdb8d22",
   "metadata": {
    "ExecuteTime": {
     "start_time": "2023-04-11T18:30:06.130440Z",
     "end_time": "2023-04-11T18:30:06.174908Z"
    }
   },
   "outputs": [],
   "source": [
    "import numpy as np\n",
    "import pydot\n",
    "from pydrake.all import (\n",
    "    DiagramBuilder,\n",
    "    MultibodyPlant,\n",
    "    Parser,\n",
    "    Propeller,\n",
    "    PropellerInfo,\n",
    "    RigidTransform,\n",
    "    StartMeshcat,\n",
    "    MeshcatVisualizer,\n",
    "    SceneGraph,\n",
    "    Simulator,\n",
    "    AddMultibodyPlantSceneGraph,\n",
    "    LeafSystem,\n",
    "    LeafSystem_,\n",
    "    ExternallyAppliedSpatialForce,\n",
    "    ExternallyAppliedSpatialForce_,\n",
    "    TemplateSystem,\n",
    "    AbstractValue,\n",
    "    SpatialForce,\n",
    "    SpatialForce_,\n",
    "    CollisionFilterDeclaration,\n",
    "    GeometrySet,\n",
    "    LinearQuadraticRegulator\n",
    ")\n",
    "\n",
    "from pydrake.examples import (\n",
    "    QuadrotorGeometry\n",
    ")\n",
    "from IPython.display import display, SVG, Image\n",
    "\n",
    "from underactuated.scenarios import AddFloatingRpyJoint"
   ]
  },
  {
   "cell_type": "code",
   "execution_count": 40,
   "id": "2309d45f",
   "metadata": {
    "ExecuteTime": {
     "start_time": "2023-04-11T18:30:06.174767Z",
     "end_time": "2023-04-11T18:30:06.175175Z"
    }
   },
   "outputs": [
    {
     "name": "stderr",
     "output_type": "stream",
     "text": [
      "INFO:drake:Meshcat listening for connections at http://localhost:7002\n"
     ]
    }
   ],
   "source": [
    "# Start the visualizer (run this cell only once, each instance consumes a port)\n",
    "meshcat = StartMeshcat()"
   ]
  },
  {
   "cell_type": "code",
   "execution_count": 41,
   "outputs": [],
   "source": [
    "@TemplateSystem.define(\"TensileForce_\")\n",
    "def TensileForce_(T):\n",
    "    class Impl(LeafSystem_[T]):\n",
    "        def _construct(self, length, hooke_K, anchor_point, body_index, converter=None):\n",
    "            LeafSystem_[T].__init__(self, converter)\n",
    "            self.length = length # In meters, > 0\n",
    "            self.hooke_K = hooke_K # Hooke's law spring constant, > 0\n",
    "            self.anchor_point = anchor_point # 3d point, given in the world frame\n",
    "            self.body_index = body_index # Index of the affected bod from the plant\n",
    "\n",
    "#             self.state_input = self.DeclareAbstractInputPort(\"State_Input\",\n",
    "#                                                             )\n",
    "            self.state_input = self.DeclareVectorInputPort(\"state_input\", size=12)\n",
    "            self.force_output = self.DeclareAbstractOutputPort(\"force_output\",\n",
    "                                                              alloc=lambda: AbstractValue.Make(\n",
    "                                                               [ExternallyAppliedSpatialForce_[T]()]),\n",
    "                                                              calc=self.OutputForce)\n",
    "\n",
    "        def OutputForce(self, context, output):\n",
    "            state = self.state_input.Eval(context)\n",
    "            pos = state[0:3]\n",
    "            dist = np.linalg.norm(pos - self.anchor_point)\n",
    "\n",
    "            f_mag = self.hooke_K * (dist - self.length)\n",
    "            f_dir = (self.anchor_point - pos) / (dist + 1e-6) # add a machine zero so that autodiff for linearization can work\n",
    "            f = f_mag * f_dir\n",
    "\n",
    "            F_Bq_W = SpatialForce_[T](np.zeros((3,1)), f.reshape(-1,1))\n",
    "            p_BoBq_B = np.zeros(3) # Assume the force is applied at the body origin\n",
    "\n",
    "            o = ExternallyAppliedSpatialForce_[T]()\n",
    "            o.body_index = self.body_index\n",
    "            o.F_Bq_W = F_Bq_W\n",
    "            o.p_BoBq_B = p_BoBq_B\n",
    "            output.set_value([o])\n",
    "\n",
    "        def _construct_copy(self, other, converter=None,):\n",
    "            Impl._construct(self, other.length, other.hooke_K, other.anchor_point,\n",
    "                            other.body_index, converter=converter)\n",
    "\n",
    "    return Impl\n",
    "\n",
    "# Thanks David!\n",
    "# https://stackoverflow.com/a/72121171/9796174\n",
    "@TemplateSystem.define(\"SpatialForceConcatinator_\")\n",
    "def SpatialForceConcatinator_(T):\n",
    "    class Impl(LeafSystem_[T]):\n",
    "        def _construct(self, N_inputs, converter = None):\n",
    "            LeafSystem_[T].__init__(self, converter)\n",
    "            self.N_inputs = N_inputs\n",
    "            self.Input_ports = [self.DeclareAbstractInputPort(f\"Spatial_Force_{i}\",\n",
    "                                AbstractValue.Make([ExternallyAppliedSpatialForce_[T]()]))\n",
    "                                for i in range(N_inputs)]\n",
    "\n",
    "            self.Output_port = self.DeclareAbstractOutputPort(\"Spatial_Forces\",\n",
    "                                           lambda: AbstractValue.Make(\n",
    "                                           [ExternallyAppliedSpatialForce_[T]()\n",
    "                                              for i in range(N_inputs)]),\n",
    "                                           self.Concatenate)\n",
    "\n",
    "        def Concatenate(self, context, output):\n",
    "            out = []\n",
    "            for port in self.Input_ports:\n",
    "                out += port.Eval(context)\n",
    "            output.set_value(out)\n",
    "\n",
    "        def _construct_copy(self, other, converter=None,):\n",
    "            Impl._construct(self, other.N_inputs, converter=converter)\n",
    "\n",
    "    return Impl\n",
    "\n",
    "# Default instantations\n",
    "TensileForce = TensileForce_[None]\n",
    "SpatialForceConcatinator = SpatialForceConcatinator_[None]"
   ],
   "metadata": {
    "collapsed": false,
    "ExecuteTime": {
     "start_time": "2023-04-11T18:30:06.175000Z",
     "end_time": "2023-04-11T18:30:06.175261Z"
    }
   }
  },
  {
   "cell_type": "code",
   "execution_count": 43,
   "outputs": [],
   "source": [
    "def make_n_quadrotor_system(n):\n",
    "    builder = DiagramBuilder()\n",
    "    # The MultibodyPlant handles f=ma, but doesn't know about propellers.\n",
    "    plant, scene_graph = AddMultibodyPlantSceneGraph(builder, time_step=0.0)\n",
    "    parser = Parser(plant)\n",
    "    parser.SetAutoRenaming(True)\n",
    "    quadrotor_model_instances = []\n",
    "    for i in range(n):\n",
    "        (model_instance,) = parser.AddModelsFromUrl(\n",
    "            \"package://drake/examples/quadrotor/quadrotor.urdf\"\n",
    "        )\n",
    "        quadrotor_model_instances.append(model_instance)\n",
    "        # By default the multibody has a quaternion floating base.  To match\n",
    "        # QuadrotorPlant, we can manually add a FloatingRollPitchYaw joint. We set\n",
    "        # `use_ball_rpy` to false because the BallRpyJoint uses angular velocities\n",
    "        # instead of ṙ, ṗ, ẏ.\n",
    "        AddFloatingRpyJoint(\n",
    "            plant,\n",
    "            plant.GetFrameByName(\"base_link\", model_instance),\n",
    "            model_instance,\n",
    "            use_ball_rpy=False,\n",
    "        )\n",
    "\n",
    "    plant.Finalize()\n",
    "\n",
    "    # Default parameters from quadrotor_plant.cc:\n",
    "    L = 0.15  # Length of the arms (m).\n",
    "    kF = 1.0  # Force input constant.\n",
    "    kM = 0.0245  # Moment input constant.\n",
    "\n",
    "    # Now we can add in propellers as an external force on the MultibodyPlant.\n",
    "    prop_info = []\n",
    "    tensile_forces = []\n",
    "    for model_instance in quadrotor_model_instances:\n",
    "        body_index = plant.GetBodyByName(\"base_link\", model_instance).index()\n",
    "        # Note: Rotors 0 and 2 rotate one way and rotors 1 and 3 rotate the other.\n",
    "        prop_info += [\n",
    "            PropellerInfo(body_index, RigidTransform([L, 0, 0]), kF, kM),\n",
    "            PropellerInfo(body_index, RigidTransform([0, L, 0]), kF, -kM),\n",
    "            PropellerInfo(body_index, RigidTransform([-L, 0, 0]), kF, kM),\n",
    "            PropellerInfo(body_index, RigidTransform([0, -L, 0]), kF, -kM),\n",
    "        ]\n",
    "\n",
    "        tensile_force = builder.AddSystem(TensileForce(1, 0, np.zeros(3), body_index))\n",
    "        builder.Connect(\n",
    "            plant.get_state_output_port(model_instance),\n",
    "            tensile_force.state_input\n",
    "        )\n",
    "        tensile_forces.append(tensile_force)\n",
    "\n",
    "    propellers = builder.AddNamedSystem(\"propeller\", Propeller(prop_info))\n",
    "\n",
    "    # stacks forces resulting from tensile + controllers\n",
    "    combiner = builder.AddNamedSystem(\"combiner\", SpatialForceConcatinator(2))\n",
    "    builder.Connect(\n",
    "        propellers.get_output_port(),\n",
    "        combiner.Input_ports[0]\n",
    "    )\n",
    "\n",
    "    builder.Connect(\n",
    "        combiner.Output_port,\n",
    "        plant.get_applied_spatial_force_input_port()\n",
    "    )\n",
    "\n",
    "    tensile_combiner = builder.AddNamedSystem(\"tensile_combiner\", SpatialForceConcatinator(n))\n",
    "    for tensile_force, combiner_port in zip(tensile_forces, tensile_combiner.Input_ports):\n",
    "        builder.Connect(\n",
    "            tensile_force.force_output,\n",
    "            combiner_port\n",
    "        )\n",
    "    builder.Connect(\n",
    "        tensile_combiner.Output_port,\n",
    "        combiner.Input_ports[1]\n",
    "    )\n",
    "\n",
    "\n",
    "    builder.Connect(\n",
    "        plant.get_body_poses_output_port(),\n",
    "        propellers.get_body_poses_input_port(),\n",
    "    )\n",
    "\n",
    "    builder.ExportInput(propellers.get_command_input_port(), \"u\")\n",
    "\n",
    "    MeshcatVisualizer.AddToBuilder(builder, scene_graph, meshcat)\n",
    "\n",
    "    return builder.Build(), plant"
   ],
   "metadata": {
    "collapsed": false,
    "ExecuteTime": {
     "start_time": "2023-04-11T18:30:06.175293Z",
     "end_time": "2023-04-11T18:30:06.176548Z"
    }
   }
  },
  {
   "cell_type": "code",
   "execution_count": 50,
   "outputs": [],
   "source": [
    "def full_system_lqr(n, mass, gravity, plant):\n",
    "    # all drones are spaces out in a circle of radius 1 meter\n",
    "    roots_of_unity = np.linspace(0.0, 2 * np.pi, num=n+1)[:-1]\n",
    "    xs = np.cos(roots_of_unity)\n",
    "    ys = np.sin(roots_of_unity)\n",
    "    fixed_points = np.hstack([xs.reshape(-1, 1), ys.reshape(-1, 1), np.ones((n, 1)), np.zeros((n, 9))]).flatten(order='C')\n",
    "\n",
    "    context = plant.CreateDefaultContext()\n",
    "    context.SetContinuousState(fixed_points)\n",
    "    plant.get_input_port(0).FixValue(\n",
    "        context, mass * gravity / 4.0 * np.ones(4 * n)\n",
    "    )\n",
    "    Q = np.diag(([10.0] * 3 + [0.0] * 9) * n)\n",
    "    R = np.eye(4 * n)\n",
    "\n",
    "    return LinearQuadraticRegulator(plant,context, Q, R)\n",
    "\n",
    "def add_controller(n, system_diagram):\n",
    "    builder = DiagramBuilder()\n",
    "    system_plant = builder.AddNamedSystem('plant', system_diagram)\n",
    "\n",
    "    controller = builder.AddSystem(full_system_lqr(n, 0.775, 9.81, system_plant))\n",
    "    builder.Connect(controller.get_output_port(0), system_plant.get_input_port(0))\n",
    "    builder.Connect(system_plant.get_state_output_port(0), controller.get_input_port(0))\n",
    "\n",
    "    return builder.Build(), system_plant\n"
   ],
   "metadata": {
    "collapsed": false,
    "ExecuteTime": {
     "start_time": "2023-04-11T18:45:35.385109Z",
     "end_time": "2023-04-11T18:45:35.387692Z"
    }
   }
  },
  {
   "cell_type": "code",
   "execution_count": 51,
   "outputs": [
    {
     "name": "stdout",
     "output_type": "stream",
     "text": [
      "[ 1.         0.         1.         0.         0.         0.\n",
      "  0.         0.         0.         0.         0.         0.\n",
      " -0.5        0.8660254  1.         0.         0.         0.\n",
      "  0.         0.         0.         0.         0.         0.\n",
      " -0.5       -0.8660254  1.         0.         0.         0.\n",
      "  0.         0.         0.         0.         0.         0.       ]\n"
     ]
    },
    {
     "ename": "RuntimeError",
     "evalue": "The nominal operating point (x0,u0) is not an equilibrium point of the system.  Without additional information, a time-invariant linearization of this system is not well defined.",
     "output_type": "error",
     "traceback": [
      "\u001B[0;31m---------------------------------------------------------------------------\u001B[0m",
      "\u001B[0;31mRuntimeError\u001B[0m                              Traceback (most recent call last)",
      "Cell \u001B[0;32mIn[51], line 3\u001B[0m\n\u001B[1;32m      1\u001B[0m diagram, plant \u001B[38;5;241m=\u001B[39m make_n_quadrotor_system(\u001B[38;5;241m3\u001B[39m)\n\u001B[1;32m      2\u001B[0m \u001B[38;5;66;03m# add in controller (magic numbers are pulled directly from quadrotor_plant.cc because I couldn't work out how to access them programmatically)\u001B[39;00m\n\u001B[0;32m----> 3\u001B[0m diagram, plant \u001B[38;5;241m=\u001B[39m \u001B[43madd_controller\u001B[49m\u001B[43m(\u001B[49m\u001B[38;5;241;43m3\u001B[39;49m\u001B[43m,\u001B[49m\u001B[43m \u001B[49m\u001B[43mdiagram\u001B[49m\u001B[43m)\u001B[49m\n",
      "Cell \u001B[0;32mIn[50], line 23\u001B[0m, in \u001B[0;36madd_controller\u001B[0;34m(n, system_diagram)\u001B[0m\n\u001B[1;32m     20\u001B[0m builder \u001B[38;5;241m=\u001B[39m DiagramBuilder()\n\u001B[1;32m     21\u001B[0m system_plant \u001B[38;5;241m=\u001B[39m builder\u001B[38;5;241m.\u001B[39mAddNamedSystem(\u001B[38;5;124m'\u001B[39m\u001B[38;5;124mplant\u001B[39m\u001B[38;5;124m'\u001B[39m, system_diagram)\n\u001B[0;32m---> 23\u001B[0m controller \u001B[38;5;241m=\u001B[39m builder\u001B[38;5;241m.\u001B[39mAddSystem(\u001B[43mfull_system_lqr\u001B[49m\u001B[43m(\u001B[49m\u001B[43mn\u001B[49m\u001B[43m,\u001B[49m\u001B[43m \u001B[49m\u001B[38;5;241;43m0.775\u001B[39;49m\u001B[43m,\u001B[49m\u001B[43m \u001B[49m\u001B[38;5;241;43m9.81\u001B[39;49m\u001B[43m,\u001B[49m\u001B[43m \u001B[49m\u001B[43msystem_plant\u001B[49m\u001B[43m)\u001B[49m)\n\u001B[1;32m     24\u001B[0m builder\u001B[38;5;241m.\u001B[39mConnect(controller\u001B[38;5;241m.\u001B[39mget_output_port(\u001B[38;5;241m0\u001B[39m), system_plant\u001B[38;5;241m.\u001B[39mget_input_port(\u001B[38;5;241m0\u001B[39m))\n\u001B[1;32m     25\u001B[0m builder\u001B[38;5;241m.\u001B[39mConnect(system_plant\u001B[38;5;241m.\u001B[39mget_state_output_port(\u001B[38;5;241m0\u001B[39m), controller\u001B[38;5;241m.\u001B[39mget_input_port(\u001B[38;5;241m0\u001B[39m))\n",
      "Cell \u001B[0;32mIn[50], line 17\u001B[0m, in \u001B[0;36mfull_system_lqr\u001B[0;34m(n, mass, gravity, plant)\u001B[0m\n\u001B[1;32m     14\u001B[0m Q \u001B[38;5;241m=\u001B[39m np\u001B[38;5;241m.\u001B[39mdiag(([\u001B[38;5;241m10.0\u001B[39m] \u001B[38;5;241m*\u001B[39m \u001B[38;5;241m3\u001B[39m \u001B[38;5;241m+\u001B[39m [\u001B[38;5;241m0.0\u001B[39m] \u001B[38;5;241m*\u001B[39m \u001B[38;5;241m9\u001B[39m) \u001B[38;5;241m*\u001B[39m n)\n\u001B[1;32m     15\u001B[0m R \u001B[38;5;241m=\u001B[39m np\u001B[38;5;241m.\u001B[39meye(\u001B[38;5;241m4\u001B[39m \u001B[38;5;241m*\u001B[39m n)\n\u001B[0;32m---> 17\u001B[0m \u001B[38;5;28;01mreturn\u001B[39;00m \u001B[43mLinearQuadraticRegulator\u001B[49m\u001B[43m(\u001B[49m\u001B[43mplant\u001B[49m\u001B[43m,\u001B[49m\u001B[43mcontext\u001B[49m\u001B[43m,\u001B[49m\u001B[43m \u001B[49m\u001B[43mQ\u001B[49m\u001B[43m,\u001B[49m\u001B[43m \u001B[49m\u001B[43mR\u001B[49m\u001B[43m)\u001B[49m\n",
      "\u001B[0;31mRuntimeError\u001B[0m: The nominal operating point (x0,u0) is not an equilibrium point of the system.  Without additional information, a time-invariant linearization of this system is not well defined."
     ]
    }
   ],
   "source": [
    "diagram, plant = make_n_quadrotor_system(3)\n",
    "# add in controller (magic numbers are pulled directly from quadrotor_plant.cc because I couldn't work out how to access them programmatically)\n",
    "diagram, plant = add_controller(3, diagram)\n",
    "\n",
    "\n"
   ],
   "metadata": {
    "collapsed": false
   }
  },
  {
   "cell_type": "code",
   "execution_count": null,
   "outputs": [],
   "source": [
    "display(\n",
    "    Image(\n",
    "        pydot.graph_from_dot_data(plant.GetTopologyGraphvizString())[0].create_png()\n",
    "    )\n",
    ")"
   ],
   "metadata": {
    "collapsed": false
   }
  },
  {
   "cell_type": "code",
   "execution_count": null,
   "outputs": [],
   "source": [
    "display(\n",
    "    Image(\n",
    "        pydot.graph_from_dot_data(diagram.GetGraphvizString())[\n",
    "            0\n",
    "        ].create_png()\n",
    "    )\n",
    ")"
   ],
   "metadata": {
    "collapsed": false
   }
  },
  {
   "cell_type": "code",
   "execution_count": null,
   "outputs": [],
   "source": [
    "def CreateNullExternalForce(plant):\n",
    "    f = ExternallyAppliedSpatialForce()\n",
    "    f.body_index = plant.world_body().index()\n",
    "    return f"
   ],
   "metadata": {
    "collapsed": false
   }
  },
  {
   "cell_type": "code",
   "execution_count": null,
   "outputs": [],
   "source": [
    "def DisableCollisionChecking(sg):\n",
    "    sg_context = sg.GetMyContextFromRoot(context)\n",
    "    cfm = sg.collision_filter_manager(sg_context)\n",
    "\n",
    "    query_object = sg.get_query_output_port().Eval(sg_context)\n",
    "    inspector = query_object.inspector()\n",
    "\n",
    "    quads = GeometrySet()\n",
    "    gids = inspector.GetAllGeometryIds()\n",
    "    for gid in gids:\n",
    "        # Might want to handle the case where not all geometries are collision geometries?\n",
    "        quads.Add(gid)\n",
    "    cfd = CollisionFilterDeclaration()\n",
    "    cfd.ExcludeWithin(quads)\n",
    "    cfm.Apply(cfd)"
   ],
   "metadata": {
    "collapsed": false
   }
  },
  {
   "cell_type": "code",
   "execution_count": null,
   "id": "0ba552c7",
   "metadata": {},
   "outputs": [],
   "source": [
    "simulator = Simulator(diagram)\n",
    "simulator.set_target_realtime_rate(1)\n",
    "context = simulator.get_mutable_context()\n",
    "\n",
    "u = diagram.GetInputPort(\"u\")\n",
    "u.FixValue(context, np.zeros(u.size()))\n",
    "\n",
    "sg = diagram.GetSubsystemByName(\"scene_graph\")\n",
    "DisableCollisionChecking(sg)\n",
    "\n",
    "# CreateNullExternalForce(diagram.GetSubsystemByName(\"plant\"))\n",
    "\n",
    "# combiner_system = diagram.GetSubsystemByName(\"combiner\")\n",
    "# combiner_empty_port = combiner_system.Input_ports[1]\n",
    "# combiner_empty_port.FixValue(combiner_system.GetMyContextFromRoot(context), [CreateNullExternalForce(plant)])\n",
    "\n",
    "# Simulate\n",
    "while True:\n",
    "    context.SetTime(0.0)\n",
    "    context.SetContinuousState(\n",
    "        0.5\n",
    "        * np.random.randn(\n",
    "            context.num_continuous_states(),\n",
    "        )\n",
    "    )\n",
    "    simulator.Initialize()\n",
    "    simulator.AdvanceTo(5)"
   ]
  },
  {
   "cell_type": "code",
   "execution_count": null,
   "id": "df81ad18",
   "metadata": {},
   "outputs": [],
   "source": []
  }
 ],
 "metadata": {
  "kernelspec": {
   "display_name": "Python 3 (ipykernel)",
   "language": "python",
   "name": "python3"
  },
  "language_info": {
   "codemirror_mode": {
    "name": "ipython",
    "version": 3
   },
   "file_extension": ".py",
   "mimetype": "text/x-python",
   "name": "python",
   "nbconvert_exporter": "python",
   "pygments_lexer": "ipython3",
   "version": "3.10.6"
  }
 },
 "nbformat": 4,
 "nbformat_minor": 5
}

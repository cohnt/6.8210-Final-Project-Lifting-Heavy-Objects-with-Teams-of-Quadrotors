{
 "cells": [
  {
   "cell_type": "code",
   "execution_count": 1,
   "id": "a597d94c",
   "metadata": {},
   "outputs": [],
   "source": [
    "%load_ext autoreload\n",
    "%autoreload 2"
   ]
  },
  {
   "cell_type": "code",
   "execution_count": 2,
   "id": "10b5670b",
   "metadata": {},
   "outputs": [],
   "source": [
    "import sys\n",
    "sys.path.append(\"../src\")"
   ]
  },
  {
   "cell_type": "code",
   "execution_count": 3,
   "id": "11b7c1a8",
   "metadata": {},
   "outputs": [],
   "source": [
    "import numpy as np\n",
    "from pydrake.all import (\n",
    "    StartMeshcat,\n",
    "    Simulator\n",
    ")"
   ]
  },
  {
   "cell_type": "code",
   "execution_count": 4,
   "id": "e1e97339",
   "metadata": {},
   "outputs": [],
   "source": [
    "from world import make_n_quadrotor_system\n",
    "from util import DisableCollisionChecking\n",
    "from stabilization import find_fixed_point_snopt, lqr_stabilize_to_point, add_controller_to_system"
   ]
  },
  {
   "cell_type": "code",
   "execution_count": 5,
   "id": "ef40524a",
   "metadata": {},
   "outputs": [
    {
     "name": "stderr",
     "output_type": "stream",
     "text": [
      "INFO:drake:Meshcat listening for connections at http://localhost:7000\n"
     ]
    }
   ],
   "source": [
    "meshcat = StartMeshcat()"
   ]
  },
  {
   "cell_type": "code",
   "execution_count": 6,
   "id": "c068437f",
   "metadata": {},
   "outputs": [],
   "source": [
    "np.random.seed(1)\n",
    "n_quadrotors = 5"
   ]
  },
  {
   "cell_type": "code",
   "execution_count": 7,
   "id": "733bfdef",
   "metadata": {},
   "outputs": [],
   "source": [
    "diagram, plant = make_n_quadrotor_system(meshcat, n_quadrotors)"
   ]
  },
  {
   "cell_type": "code",
   "execution_count": 8,
   "id": "1840cc3c",
   "metadata": {},
   "outputs": [
    {
     "ename": "RuntimeError",
     "evalue": "Exception while evaluating SNOPT costs and constraints: 'RuntimeError: QuaternionToRotationMatrix(): All the elements in a quaternion are zero.\n\nAt:\n  /home/tommy/Documents/homework/6.8210/project/repo/notebooks/../src/stabilization.py(74): time_derivative\n  /home/tommy/Documents/homework/6.8210/project/repo/notebooks/../src/stabilization.py(80): find_fixed_point_snopt\n  /tmp/ipykernel_126659/1449802733.py(1): <module>\n  /home/tommy/Documents/homework/6.8210/env_underactuated/lib/python3.10/site-packages/IPython/core/interactiveshell.py(3460): run_code\n  /home/tommy/Documents/homework/6.8210/env_underactuated/lib/python3.10/site-packages/IPython/core/interactiveshell.py(3400): run_ast_nodes\n  /home/tommy/Documents/homework/6.8210/env_underactuated/lib/python3.10/site-packages/IPython/core/interactiveshell.py(3221): run_cell_async\n  /home/tommy/Documents/homework/6.8210/env_underactuated/lib/python3.10/site-packages/IPython/core/async_helpers.py(129): _pseudo_sync_runner\n  /home/tommy/Documents/homework/6.8210/env_underactuated/lib/python3.10/site-packages/IPython/core/interactiveshell.py(3016): _run_cell\n  /home/tommy/Documents/homework/6.8210/env_underactuated/lib/python3.10/site-packages/IPython/core/interactiveshell.py(2961): run_cell\n  /home/tommy/Documents/homework/6.8210/env_underactuated/lib/python3.10/site-packages/ipykernel/zmqshell.py(540): run_cell\n  /home/tommy/Documents/homework/6.8210/env_underactuated/lib/python3.10/site-packages/ipykernel/ipkernel.py(422): do_execute\n  /home/tommy/Documents/homework/6.8210/env_underactuated/lib/python3.10/site-packages/ipykernel/kernelbase.py(729): execute_request\n  /home/tommy/Documents/homework/6.8210/env_underactuated/lib/python3.10/site-packages/ipykernel/kernelbase.py(409): dispatch_shell\n  /home/tommy/Documents/homework/6.8210/env_underactuated/lib/python3.10/site-packages/ipykernel/kernelbase.py(502): process_one\n  /home/tommy/Documents/homework/6.8210/env_underactuated/lib/python3.10/site-packages/ipykernel/kernelbase.py(513): dispatch_queue\n  /usr/lib/python3.10/asyncio/events.py(80): _run\n  /usr/lib/python3.10/asyncio/base_events.py(1896): _run_once\n  /usr/lib/python3.10/asyncio/base_events.py(600): run_forever\n  /home/tommy/Documents/homework/6.8210/env_underactuated/lib/python3.10/site-packages/tornado/platform/asyncio.py(215): start\n  /home/tommy/Documents/homework/6.8210/env_underactuated/lib/python3.10/site-packages/ipykernel/kernelapp.py(725): start\n  /home/tommy/Documents/homework/6.8210/env_underactuated/lib/python3.10/site-packages/traitlets/config/application.py(1043): launch_instance\n  /home/tommy/Documents/homework/6.8210/env_underactuated/lib/python3.10/site-packages/ipykernel_launcher.py(17): <module>\n  /usr/lib/python3.10/runpy.py(86): _run_code\n  /usr/lib/python3.10/runpy.py(196): _run_module_as_main\n'",
     "output_type": "error",
     "traceback": [
      "\u001b[0;31m---------------------------------------------------------------------------\u001b[0m",
      "\u001b[0;31mRuntimeError\u001b[0m                              Traceback (most recent call last)",
      "Cell \u001b[0;32mIn[8], line 1\u001b[0m\n\u001b[0;32m----> 1\u001b[0m fixed_point, fixed_control \u001b[38;5;241m=\u001b[39m \u001b[43mfind_fixed_point_snopt\u001b[49m\u001b[43m(\u001b[49m\u001b[43mdiagram\u001b[49m\u001b[43m)\u001b[49m\n\u001b[1;32m      2\u001b[0m \u001b[38;5;28mprint\u001b[39m(fixed_point)\n\u001b[1;32m      3\u001b[0m \u001b[38;5;28mprint\u001b[39m(fixed_control)\n",
      "File \u001b[0;32m~/Documents/homework/6.8210/project/repo/notebooks/../src/stabilization.py:80\u001b[0m, in \u001b[0;36mfind_fixed_point_snopt\u001b[0;34m(diagram)\u001b[0m\n\u001b[1;32m     77\u001b[0m prog\u001b[38;5;241m.\u001b[39mAddConstraint(time_derivative, np\u001b[38;5;241m.\u001b[39mzeros(n_outputs), np\u001b[38;5;241m.\u001b[39mzeros(n_outputs), \u001b[38;5;28mvars\u001b[39m\u001b[38;5;241m=\u001b[39mnp\u001b[38;5;241m.\u001b[39mhstack((x, u)))\n\u001b[1;32m     79\u001b[0m prog\u001b[38;5;241m.\u001b[39mSetInitialGuess(x, np\u001b[38;5;241m.\u001b[39mrandom\u001b[38;5;241m.\u001b[39mnormal(scale\u001b[38;5;241m=\u001b[39m\u001b[38;5;241m10\u001b[39m, size\u001b[38;5;241m=\u001b[39mn_outputs))\n\u001b[0;32m---> 80\u001b[0m result \u001b[38;5;241m=\u001b[39m \u001b[43mSolve\u001b[49m\u001b[43m(\u001b[49m\u001b[43mprog\u001b[49m\u001b[43m)\u001b[49m\n\u001b[1;32m     81\u001b[0m \u001b[38;5;28mprint\u001b[39m(result\u001b[38;5;241m.\u001b[39mis_success())\n\u001b[1;32m     83\u001b[0m \u001b[38;5;28;01mreturn\u001b[39;00m result\u001b[38;5;241m.\u001b[39mGetSolution(x), result\u001b[38;5;241m.\u001b[39mGetSolution(u)\n",
      "\u001b[0;31mRuntimeError\u001b[0m: Exception while evaluating SNOPT costs and constraints: 'RuntimeError: QuaternionToRotationMatrix(): All the elements in a quaternion are zero.\n\nAt:\n  /home/tommy/Documents/homework/6.8210/project/repo/notebooks/../src/stabilization.py(74): time_derivative\n  /home/tommy/Documents/homework/6.8210/project/repo/notebooks/../src/stabilization.py(80): find_fixed_point_snopt\n  /tmp/ipykernel_126659/1449802733.py(1): <module>\n  /home/tommy/Documents/homework/6.8210/env_underactuated/lib/python3.10/site-packages/IPython/core/interactiveshell.py(3460): run_code\n  /home/tommy/Documents/homework/6.8210/env_underactuated/lib/python3.10/site-packages/IPython/core/interactiveshell.py(3400): run_ast_nodes\n  /home/tommy/Documents/homework/6.8210/env_underactuated/lib/python3.10/site-packages/IPython/core/interactiveshell.py(3221): run_cell_async\n  /home/tommy/Documents/homework/6.8210/env_underactuated/lib/python3.10/site-packages/IPython/core/async_helpers.py(129): _pseudo_sync_runner\n  /home/tommy/Documents/homework/6.8210/env_underactuated/lib/python3.10/site-packages/IPython/core/interactiveshell.py(3016): _run_cell\n  /home/tommy/Documents/homework/6.8210/env_underactuated/lib/python3.10/site-packages/IPython/core/interactiveshell.py(2961): run_cell\n  /home/tommy/Documents/homework/6.8210/env_underactuated/lib/python3.10/site-packages/ipykernel/zmqshell.py(540): run_cell\n  /home/tommy/Documents/homework/6.8210/env_underactuated/lib/python3.10/site-packages/ipykernel/ipkernel.py(422): do_execute\n  /home/tommy/Documents/homework/6.8210/env_underactuated/lib/python3.10/site-packages/ipykernel/kernelbase.py(729): execute_request\n  /home/tommy/Documents/homework/6.8210/env_underactuated/lib/python3.10/site-packages/ipykernel/kernelbase.py(409): dispatch_shell\n  /home/tommy/Documents/homework/6.8210/env_underactuated/lib/python3.10/site-packages/ipykernel/kernelbase.py(502): process_one\n  /home/tommy/Documents/homework/6.8210/env_underactuated/lib/python3.10/site-packages/ipykernel/kernelbase.py(513): dispatch_queue\n  /usr/lib/python3.10/asyncio/events.py(80): _run\n  /usr/lib/python3.10/asyncio/base_events.py(1896): _run_once\n  /usr/lib/python3.10/asyncio/base_events.py(600): run_forever\n  /home/tommy/Documents/homework/6.8210/env_underactuated/lib/python3.10/site-packages/tornado/platform/asyncio.py(215): start\n  /home/tommy/Documents/homework/6.8210/env_underactuated/lib/python3.10/site-packages/ipykernel/kernelapp.py(725): start\n  /home/tommy/Documents/homework/6.8210/env_underactuated/lib/python3.10/site-packages/traitlets/config/application.py(1043): launch_instance\n  /home/tommy/Documents/homework/6.8210/env_underactuated/lib/python3.10/site-packages/ipykernel_launcher.py(17): <module>\n  /usr/lib/python3.10/runpy.py(86): _run_code\n  /usr/lib/python3.10/runpy.py(196): _run_module_as_main\n'"
     ]
    }
   ],
   "source": [
    "fixed_point, fixed_control = find_fixed_point_snopt(diagram)\n",
    "print(fixed_point)\n",
    "print(fixed_control)\n",
    "fixed_point.shape"
   ]
  },
  {
   "cell_type": "code",
   "execution_count": null,
   "id": "71f89b08",
   "metadata": {},
   "outputs": [],
   "source": [
    "Q_quadrotor = [10.0] * 6 + [1.0] * 6\n",
    "Q_freebody = [10.] * 13\n",
    "Q = np.diag(Q_quadrotor * n_quadrotors + Q_freebody)\n",
    "R = np.eye(4 * n_quadrotors)\n",
    "lqr_controller = lqr_stabilize_to_point(diagram, fixed_point, fixed_control, Q, R)\n",
    "\n",
    "controlled_diagram, controlled_plant = add_controller_to_system(diagram, lqr_controller)"
   ]
  },
  {
   "cell_type": "code",
   "execution_count": null,
   "id": "430e50f2",
   "metadata": {},
   "outputs": [],
   "source": [
    "simulator = Simulator(controlled_diagram)\n",
    "simulator.set_target_realtime_rate(1)\n",
    "context = simulator.get_mutable_context()\n",
    "\n",
    "sg = diagram.GetSubsystemByName(\"scene_graph\")\n",
    "DisableCollisionChecking(sg, context)\n",
    "\n",
    "simulator.set_target_realtime_rate(0.1)\n",
    "# Simulate\n",
    "while True:\n",
    "    context.SetTime(0.0)\n",
    "    context.SetContinuousState(\n",
    "        fixed_point\n",
    "    )\n",
    "    simulator.Initialize()\n",
    "    simulator.AdvanceTo(1)\n",
    "\n"
   ]
  },
  {
   "cell_type": "code",
   "execution_count": null,
   "id": "dd4a0f11",
   "metadata": {},
   "outputs": [],
   "source": []
  },
  {
   "cell_type": "code",
   "execution_count": null,
   "id": "05203886",
   "metadata": {},
   "outputs": [],
   "source": []
  }
 ],
 "metadata": {
  "kernelspec": {
   "display_name": "Python 3 (ipykernel)",
   "language": "python",
   "name": "python3"
  },
  "language_info": {
   "codemirror_mode": {
    "name": "ipython",
    "version": 3
   },
   "file_extension": ".py",
   "mimetype": "text/x-python",
   "name": "python",
   "nbconvert_exporter": "python",
   "pygments_lexer": "ipython3",
   "version": "3.10.6"
  }
 },
 "nbformat": 4,
 "nbformat_minor": 5
}

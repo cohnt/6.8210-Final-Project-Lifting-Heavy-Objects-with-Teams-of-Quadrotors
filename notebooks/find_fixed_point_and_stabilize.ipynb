{
 "cells": [
  {
   "cell_type": "code",
   "execution_count": 1,
   "id": "a597d94c",
   "metadata": {},
   "outputs": [],
   "source": [
    "%load_ext autoreload\n",
    "%autoreload 2"
   ]
  },
  {
   "cell_type": "code",
   "execution_count": 2,
   "id": "10b5670b",
   "metadata": {},
   "outputs": [],
   "source": [
    "import sys\n",
    "sys.path.append(\"../src\")"
   ]
  },
  {
   "cell_type": "code",
   "execution_count": 3,
   "id": "11b7c1a8",
   "metadata": {},
   "outputs": [],
   "source": [
    "import numpy as np\n",
    "from pydrake.all import (\n",
    "    StartMeshcat,\n",
    "    Simulator\n",
    ")"
   ]
  },
  {
   "cell_type": "code",
   "execution_count": 4,
   "id": "e1e97339",
   "metadata": {},
   "outputs": [],
   "source": [
    "from world import make_n_quadrotor_system\n",
    "from util import DisableCollisionChecking\n",
    "from stabilization import find_fixed_point_snopt, lqr_stabilize_to_point, add_controller_to_system"
   ]
  },
  {
   "cell_type": "code",
   "execution_count": 5,
   "id": "ef40524a",
   "metadata": {},
   "outputs": [
    {
     "name": "stderr",
     "output_type": "stream",
     "text": [
      "INFO:drake:Meshcat listening for connections at http://localhost:7000\n"
     ]
    }
   ],
   "source": [
    "meshcat = StartMeshcat()"
   ]
  },
  {
   "cell_type": "code",
   "execution_count": 6,
   "id": "c068437f",
   "metadata": {},
   "outputs": [],
   "source": [
    "np.random.seed(43)\n",
    "n_quadrotors = 3"
   ]
  },
  {
   "cell_type": "code",
   "execution_count": 7,
   "id": "733bfdef",
   "metadata": {},
   "outputs": [],
   "source": [
    "diagram, plant = make_n_quadrotor_system(meshcat, n_quadrotors)"
   ]
  },
  {
   "cell_type": "code",
   "execution_count": 8,
   "id": "e3696bce",
   "metadata": {},
   "outputs": [
    {
     "name": "stdout",
     "output_type": "stream",
     "text": [
      "True\n",
      "[ 6.22426424e+00  1.45961354e+00  2.46150230e+00 -1.01269603e+01\n",
      " -4.98904960e-01 -2.12334926e+00  1.55464844e+00  3.22990204e-01\n",
      "  4.33311779e+00 -5.82762175e+00 -1.28644774e+01 -2.75179152e-01\n",
      "  2.03558927e+00 -2.44788441e+00  4.71484060e+00 -4.16798401e+00\n",
      "  2.17283463e+01 -2.60936519e+00  2.05500850e-14 -1.26217745e-29\n",
      " -2.98516609e-14  6.31088724e-30  3.53227839e+00 -3.10719733e-01\n",
      "  2.77737255e+00  0.00000000e+00  0.00000000e+00  0.00000000e+00\n",
      "  0.00000000e+00  0.00000000e+00  0.00000000e+00  0.00000000e+00\n",
      "  0.00000000e+00  0.00000000e+00  0.00000000e+00  0.00000000e+00\n",
      "  0.00000000e+00  0.00000000e+00  0.00000000e+00  0.00000000e+00\n",
      "  0.00000000e+00  0.00000000e+00  0.00000000e+00  1.66726591e+01\n",
      " -4.37696905e+00 -4.27628293e+00  0.00000000e+00  0.00000000e+00\n",
      "  0.00000000e+00]\n",
      "[-3.46910894 -3.46910894 -3.46910894 -3.46910894  3.03526216  3.03526216\n",
      "  3.03526216  3.03526216  4.52289514  4.52289514  4.52289514  4.52289514]\n"
     ]
    },
    {
     "data": {
      "text/plain": [
       "(49,)"
      ]
     },
     "execution_count": 8,
     "metadata": {},
     "output_type": "execute_result"
    }
   ],
   "source": [
    "fixed_point, fixed_control = find_fixed_point_snopt(diagram)\n",
    "print(fixed_point)\n",
    "print(fixed_control)\n",
    "fixed_point.shape"
   ]
  },
  {
   "cell_type": "code",
   "execution_count": 9,
   "id": "71f89b08",
   "metadata": {},
   "outputs": [],
   "source": [
    "Q_quadrotor = [10.0] * 6 + [1.0] * 6\n",
    "Q_freebody = [10.] * 13\n",
    "Q = np.diag(Q_quadrotor * n_quadrotors + Q_freebody)\n",
    "R = np.eye(4 * n_quadrotors)\n",
    "lqr_controller = lqr_stabilize_to_point(diagram, fixed_point, fixed_control, Q, R)\n",
    "\n",
    "controlled_diagram, controlled_plant = add_controller_to_system(diagram, lqr_controller)"
   ]
  },
  {
   "cell_type": "code",
   "execution_count": 10,
   "id": "61ef303d",
   "metadata": {},
   "outputs": [
    {
     "ename": "RuntimeError",
     "evalue": "Spatial force applied on body base_link contains NaN.",
     "output_type": "error",
     "traceback": [
      "\u001b[0;31m---------------------------------------------------------------------------\u001b[0m",
      "\u001b[0;31mRuntimeError\u001b[0m                              Traceback (most recent call last)",
      "Cell \u001b[0;32mIn[10], line 16\u001b[0m\n\u001b[1;32m     12\u001b[0m context\u001b[38;5;241m.\u001b[39mSetContinuousState(\n\u001b[1;32m     13\u001b[0m     fixed_point\n\u001b[1;32m     14\u001b[0m )\n\u001b[1;32m     15\u001b[0m simulator\u001b[38;5;241m.\u001b[39mInitialize()\n\u001b[0;32m---> 16\u001b[0m \u001b[43msimulator\u001b[49m\u001b[38;5;241;43m.\u001b[39;49m\u001b[43mAdvanceTo\u001b[49m\u001b[43m(\u001b[49m\u001b[38;5;241;43m1\u001b[39;49m\u001b[43m)\u001b[49m\n",
      "\u001b[0;31mRuntimeError\u001b[0m: Spatial force applied on body base_link contains NaN."
     ]
    }
   ],
   "source": [
    "simulator = Simulator(controlled_diagram)\n",
    "simulator.set_target_realtime_rate(1)\n",
    "context = simulator.get_mutable_context()\n",
    "\n",
    "sg = diagram.GetSubsystemByName(\"scene_graph\")\n",
    "DisableCollisionChecking(sg, context)\n",
    "\n",
    "simulator.set_target_realtime_rate(0.1)\n",
    "# Simulate\n",
    "while True:\n",
    "    context.SetTime(0.0)\n",
    "    context.SetContinuousState(\n",
    "        fixed_point\n",
    "    )\n",
    "    simulator.Initialize()\n",
    "    simulator.AdvanceTo(1)\n",
    "\n"
   ]
  },
  {
   "cell_type": "code",
   "execution_count": null,
   "id": "c64d0c67",
   "metadata": {},
   "outputs": [],
   "source": []
  }
 ],
 "metadata": {
  "kernelspec": {
   "display_name": "Python 3 (ipykernel)",
   "language": "python",
   "name": "python3"
  },
  "language_info": {
   "codemirror_mode": {
    "name": "ipython",
    "version": 3
   },
   "file_extension": ".py",
   "mimetype": "text/x-python",
   "name": "python",
   "nbconvert_exporter": "python",
   "pygments_lexer": "ipython3",
   "version": "3.10.6"
  }
 },
 "nbformat": 4,
 "nbformat_minor": 5
}

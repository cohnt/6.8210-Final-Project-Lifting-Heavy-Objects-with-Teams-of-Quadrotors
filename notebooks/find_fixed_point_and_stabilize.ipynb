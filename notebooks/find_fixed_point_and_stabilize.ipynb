{
 "cells": [
  {
   "cell_type": "code",
   "execution_count": null,
   "id": "a597d94c",
   "metadata": {},
   "outputs": [],
   "source": [
    "%load_ext autoreload\n",
    "%autoreload 2"
   ]
  },
  {
   "cell_type": "code",
   "execution_count": null,
   "id": "10b5670b",
   "metadata": {},
   "outputs": [],
   "source": [
    "import sys\n",
    "sys.path.append(\"../src\")"
   ]
  },
  {
   "cell_type": "code",
   "execution_count": null,
   "id": "11b7c1a8",
   "metadata": {},
   "outputs": [],
   "source": [
    "import numpy as np\n",
    "from pydrake.all import (\n",
    "    StartMeshcat,\n",
    "    Simulator\n",
    ")"
   ]
  },
  {
   "cell_type": "code",
   "execution_count": null,
   "id": "e1e97339",
   "metadata": {},
   "outputs": [],
   "source": [
    "from world import make_n_quadrotor_system\n",
    "from util import DisableCollisionChecking\n",
    "from stabilization import find_fixed_point_snopt, lqr_stabilize_to_point, add_controller_to_system"
   ]
  },
  {
   "cell_type": "code",
   "execution_count": null,
   "id": "ef40524a",
   "metadata": {},
   "outputs": [],
   "source": [
    "meshcat = StartMeshcat()"
   ]
  },
  {
   "cell_type": "code",
   "execution_count": null,
   "id": "c068437f",
   "metadata": {},
   "outputs": [],
   "source": [
    "np.random.seed(2)\n",
    "n_quadrotors = 1"
   ]
  },
  {
   "cell_type": "code",
   "execution_count": null,
   "id": "733bfdef",
   "metadata": {},
   "outputs": [],
   "source": [
    "diagram, plant = make_n_quadrotor_system(meshcat, n_quadrotors)"
   ]
  },
  {
   "cell_type": "code",
   "execution_count": null,
   "id": "8e7d017a",
   "metadata": {},
   "outputs": [],
   "source": [
    "fixed_point, fixed_control = find_fixed_point_snopt(diagram)\n",
    "print(fixed_point)\n",
    "print(fixed_control)\n",
    "fixed_point.shape"
   ]
  },
  {
   "cell_type": "code",
   "execution_count": null,
   "id": "bb6d083f",
   "metadata": {},
   "outputs": [],
   "source": [
    "# Check that it's a fixed point\n",
    "\n",
    "simulator = Simulator(diagram)\n",
    "simulator.set_target_realtime_rate(1)\n",
    "context = simulator.get_mutable_context()\n",
    "\n",
    "sg = diagram.GetSubsystemByName(\"scene_graph\")\n",
    "DisableCollisionChecking(sg, context)\n",
    "\n",
    "u = diagram.GetInputPort(\"u\")\n",
    "u.FixValue(context, fixed_control)\n",
    "\n",
    "eps = 0\n",
    "\n",
    "# Simulate\n",
    "context.SetTime(0.0)\n",
    "context.SetContinuousState(\n",
    "    fixed_point + np.random.normal(loc=0, scale=eps, size=fixed_point.shape)\n",
    ")\n",
    "\n",
    "simulator.set_publish_every_time_step(True)\n",
    "simulator.Initialize()\n",
    "simulator.AdvanceTo(5.0)\n",
    "print(simulator.get_actual_realtime_rate())"
   ]
  },
  {
   "cell_type": "code",
   "execution_count": null,
   "id": "d1989761",
   "metadata": {},
   "outputs": [],
   "source": [
    "# Make an LQR controller\n",
    "\n",
    "Q_quadrotor_pos = [10.] * 6\n",
    "Q_quadrotor_vel = [1.] * 6\n",
    "Q_freebody_pos = [0.] * 4 + [10.] * 3\n",
    "Q_freebody_vel = [0.] * 3 + [0.] * 3\n",
    "Q_pos = Q_quadrotor_pos * n_quadrotors + Q_freebody_pos\n",
    "Q_vel = Q_quadrotor_vel * n_quadrotors + Q_freebody_vel\n",
    "Q = np.diag(Q_pos + Q_vel)\n",
    "R = np.eye(4 * n_quadrotors)\n",
    "\n",
    "lqr_controller = lqr_stabilize_to_point(diagram, fixed_point, fixed_control, Q, R)\n",
    "\n",
    "controlled_diagram, controlled_plant = add_controller_to_system(diagram, lqr_controller)"
   ]
  },
  {
   "cell_type": "code",
   "execution_count": null,
   "id": "dcde8d77",
   "metadata": {},
   "outputs": [],
   "source": [
    "# Simulate the LQR controller\n",
    "\n",
    "simulator = Simulator(controlled_diagram)\n",
    "simulator.set_publish_every_time_step(True)\n",
    "simulator.set_target_realtime_rate(1.0)\n",
    "context = simulator.get_mutable_context()\n",
    "\n",
    "sg = diagram.GetSubsystemByName(\"scene_graph\")\n",
    "DisableCollisionChecking(sg, context)\n",
    "\n",
    "# Simulate\n",
    "while True:\n",
    "    context.SetTime(0.0)\n",
    "    context.SetContinuousState(\n",
    "        fixed_point + np.random.normal(loc=0, scale=0.5, size=fixed_point.shape)\n",
    "    )\n",
    "    simulator.Initialize()\n",
    "    simulator.AdvanceTo(5)\n",
    "    print(simulator.get_actual_realtime_rate())\n",
    "\n"
   ]
  },
  {
   "cell_type": "code",
   "execution_count": null,
   "id": "63c7e2ea",
   "metadata": {},
   "outputs": [],
   "source": []
  }
 ],
 "metadata": {
  "kernelspec": {
   "display_name": "Python 3 (ipykernel)",
   "language": "python",
   "name": "python3"
  },
  "language_info": {
   "codemirror_mode": {
    "name": "ipython",
    "version": 3
   },
   "file_extension": ".py",
   "mimetype": "text/x-python",
   "name": "python",
   "nbconvert_exporter": "python",
   "pygments_lexer": "ipython3",
   "version": "3.10.6"
  }
 },
 "nbformat": 4,
 "nbformat_minor": 5
}

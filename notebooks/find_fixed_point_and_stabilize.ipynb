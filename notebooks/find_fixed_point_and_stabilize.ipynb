{
 "cells": [
  {
   "cell_type": "code",
   "execution_count": 1,
   "id": "a597d94c",
   "metadata": {},
   "outputs": [],
   "source": [
    "%load_ext autoreload\n",
    "%autoreload 2"
   ]
  },
  {
   "cell_type": "code",
   "execution_count": 2,
   "id": "10b5670b",
   "metadata": {},
   "outputs": [],
   "source": [
    "import sys\n",
    "sys.path.append(\"../src\")"
   ]
  },
  {
   "cell_type": "code",
   "execution_count": 3,
   "id": "11b7c1a8",
   "metadata": {},
   "outputs": [],
   "source": [
    "import numpy as np\n",
    "from pydrake.all import (\n",
    "    StartMeshcat,\n",
    "    Simulator\n",
    ")"
   ]
  },
  {
   "cell_type": "code",
   "execution_count": 4,
   "id": "e1e97339",
   "metadata": {},
   "outputs": [],
   "source": [
    "from world import make_n_quadrotor_system\n",
    "from util import DisableCollisionChecking\n",
    "from stabilization import find_fixed_point_snopt, lqr_stabilize_to_point, add_controller_to_system"
   ]
  },
  {
   "cell_type": "code",
   "execution_count": 5,
   "id": "ef40524a",
   "metadata": {},
   "outputs": [
    {
     "name": "stderr",
     "output_type": "stream",
     "text": [
      "INFO:drake:Meshcat listening for connections at http://localhost:7000\n"
     ]
    }
   ],
   "source": [
    "meshcat = StartMeshcat()"
   ]
  },
  {
   "cell_type": "code",
   "execution_count": 6,
   "id": "c068437f",
   "metadata": {},
   "outputs": [],
   "source": [
    "np.random.seed(0)\n",
    "\n",
    "cable_length = 2\n",
    "cable_hooke_K = 10\n",
    "free_body_mass = 1\n",
    "n_quadrotors = 4\n",
    "quadrotor_input_limit = 3 # or None\n",
    "\n",
    "min_quadrotor_distance = 1 # or None\n",
    "min_cable_length = 2.1\n",
    "controller_time_horizon = 10"
   ]
  },
  {
   "cell_type": "code",
   "execution_count": 7,
   "id": "733bfdef",
   "metadata": {},
   "outputs": [],
   "source": [
    "diagram, plant = make_n_quadrotor_system(meshcat,\n",
    "                                         n_quadrotors,\n",
    "                                         cable_length,\n",
    "                                         cable_hooke_K,\n",
    "                                         free_body_mass)"
   ]
  },
  {
   "cell_type": "code",
   "execution_count": 8,
   "id": "8e7d017a",
   "metadata": {},
   "outputs": [
    {
     "name": "stdout",
     "output_type": "stream",
     "text": [
      "Failed\n",
      "True\n",
      "[-6.07121903e-01  6.08870784e-01  3.77426910e-01 -1.76863166e-01\n",
      "  3.05978943e+00  5.64243183e-02 -3.55496065e-01 -3.54251001e-01\n",
      "  4.72720475e-01 -1.39585252e-07 -3.93415299e-02  3.91750401e-02\n",
      "  6.06731211e-01 -6.09265854e-01  3.77399465e-01  1.76859024e-01\n",
      "  5.63246349e-02 -3.05972235e+00  3.52764479e-01  3.51518615e-01\n",
      "  4.88728275e-01  6.81662747e-08  3.96069677e-02 -3.94348006e-02\n",
      " -4.24261300e-07 -3.33286346e-07  6.38220532e-07 -6.87408427e-07\n",
      "  3.12211810e-03  3.12441425e-03 -1.71627484e+00  0.00000000e+00\n",
      "  4.34140421e-20 -5.58586321e-18  2.46583058e-13 -4.97645975e-16\n",
      "  4.01652029e-17  8.83519295e-18 -1.22076036e-17  2.50372871e-18\n",
      "  5.80949830e-18  1.07145477e-17 -1.18508269e-18  0.00000000e+00\n",
      " -1.33357869e-18 -3.42502914e-18  0.00000000e+00 -2.77555756e-17\n",
      " -3.12407971e-18  3.90107381e-19 -3.40436896e-18 -1.14754706e-19\n",
      "  2.90589796e-20  0.00000000e+00 -2.82777063e-18 -1.71895961e-06\n",
      " -2.12218015e-06 -4.42278803e-06 -9.13425211e-18  2.86743465e-18\n",
      " -1.73713783e-19]\n",
      "[-2.52222154 -2.52222154 -2.52222154 -2.52222154  2.50563206  2.50563206\n",
      "  2.50563206  2.50563206 -2.52217892 -2.52217892 -2.52217892 -2.52217892\n",
      "  2.53790837  2.53790837  2.53790837  2.53790837]\n"
     ]
    }
   ],
   "source": [
    "fixed_point, fixed_control = find_fixed_point_snopt(diagram,\n",
    "                                                    limit=quadrotor_input_limit,\n",
    "                                                    min_quadrotor_distance=min_quadrotor_distance,\n",
    "                                                    min_cable_length=min_cable_length)\n",
    "print(fixed_point)\n",
    "print(fixed_control)"
   ]
  },
  {
   "cell_type": "code",
   "execution_count": 9,
   "id": "bb6d083f",
   "metadata": {},
   "outputs": [
    {
     "name": "stdout",
     "output_type": "stream",
     "text": [
      "1.0019534690011542\n"
     ]
    }
   ],
   "source": [
    "# Check that it's a fixed point\n",
    "\n",
    "simulator = Simulator(diagram)\n",
    "simulator.set_target_realtime_rate(1)\n",
    "context = simulator.get_mutable_context()\n",
    "\n",
    "sg = diagram.GetSubsystemByName(\"scene_graph\")\n",
    "DisableCollisionChecking(sg, context)\n",
    "\n",
    "u = diagram.GetInputPort(\"u\")\n",
    "u.FixValue(context, fixed_control)\n",
    "\n",
    "eps = 0\n",
    "\n",
    "# Simulate\n",
    "context.SetTime(0.0)\n",
    "context.SetContinuousState(\n",
    "    fixed_point + np.random.normal(loc=0, scale=eps, size=fixed_point.shape)\n",
    ")\n",
    "\n",
    "simulator.set_publish_every_time_step(True)\n",
    "simulator.Initialize()\n",
    "simulator.AdvanceTo(5.0)\n",
    "print(simulator.get_actual_realtime_rate())"
   ]
  },
  {
   "cell_type": "code",
   "execution_count": 10,
   "id": "d1989761",
   "metadata": {},
   "outputs": [],
   "source": [
    "# Make an LQR controller\n",
    "\n",
    "Q_quadrotor_pos = [10.] * 6\n",
    "Q_quadrotor_vel = [1.] * 6\n",
    "Q_freebody_pos = [1.] * 4 + [10.] * 3\n",
    "Q_freebody_vel = [1.] * 3 + [1.] * 3\n",
    "Q_pos = Q_quadrotor_pos * n_quadrotors + Q_freebody_pos\n",
    "Q_vel = Q_quadrotor_vel * n_quadrotors + Q_freebody_vel\n",
    "Q = np.diag(Q_pos + Q_vel)\n",
    "R = np.eye(4 * n_quadrotors)\n",
    "\n",
    "lqr_controller = lqr_stabilize_to_point(diagram, fixed_point, fixed_control, Q, R, controller_time_horizon)\n",
    "\n",
    "controlled_diagram, controlled_plant = add_controller_to_system(diagram, lqr_controller, limit=quadrotor_input_limit)"
   ]
  },
  {
   "cell_type": "code",
   "execution_count": 12,
   "id": "dcde8d77",
   "metadata": {},
   "outputs": [
    {
     "name": "stdout",
     "output_type": "stream",
     "text": [
      "0.9989057227544598\n",
      "0.9989323633662259\n",
      "0.9992270268496901\n",
      "0.9993166507854682\n",
      "0.9988922580530301\n",
      "0.9995512947268035\n",
      "0.9987309869403534\n",
      "0.9993447093873571\n",
      "0.9990749004017087\n",
      "0.9986687214651111\n",
      "0.99866794912622\n",
      "0.9986524027688609\n",
      "0.9991773929394779\n",
      "0.9989060984310612\n",
      "0.9989867938279461\n",
      "0.999839491567093\n",
      "0.9997906885204676\n",
      "0.9984926844300187\n",
      "0.9988728442138114\n",
      "0.9992427986882998\n"
     ]
    },
    {
     "ename": "KeyboardInterrupt",
     "evalue": "",
     "output_type": "error",
     "traceback": [
      "\u001b[0;31m---------------------------------------------------------------------------\u001b[0m",
      "\u001b[0;31mKeyboardInterrupt\u001b[0m                         Traceback (most recent call last)",
      "Cell \u001b[0;32mIn[12], line 41\u001b[0m\n\u001b[1;32m     37\u001b[0m context\u001b[38;5;241m.\u001b[39mSetContinuousState(\n\u001b[1;32m     38\u001b[0m     init\n\u001b[1;32m     39\u001b[0m )\n\u001b[1;32m     40\u001b[0m simulator\u001b[38;5;241m.\u001b[39mInitialize()\n\u001b[0;32m---> 41\u001b[0m \u001b[43msimulator\u001b[49m\u001b[38;5;241;43m.\u001b[39;49m\u001b[43mAdvanceTo\u001b[49m\u001b[43m(\u001b[49m\u001b[43mcontroller_time_horizon\u001b[49m\u001b[43m)\u001b[49m\n\u001b[1;32m     42\u001b[0m \u001b[38;5;28mprint\u001b[39m(simulator\u001b[38;5;241m.\u001b[39mget_actual_realtime_rate())\n",
      "File \u001b[0;32m~/Documents/homework/6.8210/project/repo/notebooks/../src/tensile.py:132\u001b[0m, in \u001b[0;36mSpatialForceConcatinator_.<locals>.Impl.Concatenate\u001b[0;34m(self, context, output)\u001b[0m\n\u001b[1;32m    122\u001b[0m     \u001b[38;5;28mself\u001b[39m\u001b[38;5;241m.\u001b[39mInput_ports \u001b[38;5;241m=\u001b[39m [\u001b[38;5;28mself\u001b[39m\u001b[38;5;241m.\u001b[39mDeclareAbstractInputPort(\u001b[38;5;124mf\u001b[39m\u001b[38;5;124m\"\u001b[39m\u001b[38;5;124mSpatial_Force_\u001b[39m\u001b[38;5;132;01m{\u001b[39;00mi\u001b[38;5;132;01m}\u001b[39;00m\u001b[38;5;124m\"\u001b[39m,\n\u001b[1;32m    123\u001b[0m                                                       AbstractValue\u001b[38;5;241m.\u001b[39mMake([ExternallyAppliedSpatialForce_[T]()]))\n\u001b[1;32m    124\u001b[0m                         \u001b[38;5;28;01mfor\u001b[39;00m i \u001b[38;5;129;01min\u001b[39;00m \u001b[38;5;28mrange\u001b[39m(N_inputs)]\n\u001b[1;32m    126\u001b[0m     \u001b[38;5;28mself\u001b[39m\u001b[38;5;241m.\u001b[39mOutput_port \u001b[38;5;241m=\u001b[39m \u001b[38;5;28mself\u001b[39m\u001b[38;5;241m.\u001b[39mDeclareAbstractOutputPort(\u001b[38;5;124m\"\u001b[39m\u001b[38;5;124mSpatial_Forces\u001b[39m\u001b[38;5;124m\"\u001b[39m,\n\u001b[1;32m    127\u001b[0m                                                       \u001b[38;5;28;01mlambda\u001b[39;00m: AbstractValue\u001b[38;5;241m.\u001b[39mMake(\n\u001b[1;32m    128\u001b[0m                                                           [ExternallyAppliedSpatialForce_[T]()\n\u001b[1;32m    129\u001b[0m                                                            \u001b[38;5;28;01mfor\u001b[39;00m i \u001b[38;5;129;01min\u001b[39;00m \u001b[38;5;28mrange\u001b[39m(N_inputs)]),\n\u001b[1;32m    130\u001b[0m                                                       \u001b[38;5;28mself\u001b[39m\u001b[38;5;241m.\u001b[39mConcatenate)\n\u001b[0;32m--> 132\u001b[0m \u001b[38;5;28;01mdef\u001b[39;00m \u001b[38;5;21mConcatenate\u001b[39m(\u001b[38;5;28mself\u001b[39m, context, output):\n\u001b[1;32m    133\u001b[0m     out \u001b[38;5;241m=\u001b[39m []\n\u001b[1;32m    134\u001b[0m     \u001b[38;5;28;01mfor\u001b[39;00m port \u001b[38;5;129;01min\u001b[39;00m \u001b[38;5;28mself\u001b[39m\u001b[38;5;241m.\u001b[39mInput_ports:\n",
      "\u001b[0;31mKeyboardInterrupt\u001b[0m: "
     ]
    }
   ],
   "source": [
    "# Simulate the LQR controller\n",
    "\n",
    "simulator = Simulator(controlled_diagram)\n",
    "simulator.set_publish_every_time_step(True)\n",
    "simulator.set_target_realtime_rate(1.0)\n",
    "context = simulator.get_mutable_context()\n",
    "\n",
    "sg = diagram.GetSubsystemByName(\"scene_graph\")\n",
    "DisableCollisionChecking(sg, context)\n",
    "\n",
    "pos_noise = 0.5\n",
    "orien_noise = 0.25\n",
    "vel_noise = 0.1\n",
    "\n",
    "vel_mask = np.array(\n",
    "    [False] * (6 * n_quadrotors + 7) +\n",
    "    [True] * (6 * n_quadrotors + 6)\n",
    ")\n",
    "pos_mask = np.array(\n",
    "    ([True] * 3 + [False] * 3) * n_quadrotors +\n",
    "    [False] * 4 + [True] * 3 + \n",
    "    ([True] * 3 + [False] * 3) * n_quadrotors +\n",
    "    [False] * 3 + [True] * 3\n",
    ")\n",
    "orien_mask = np.logical_not(pos_mask)\n",
    "\n",
    "pos_mask = np.logical_and(pos_mask, np.logical_not(vel_mask))\n",
    "orien_mask = np.logical_and(orien_mask, np.logical_not(vel_mask))\n",
    "\n",
    "# Simulate\n",
    "while True:\n",
    "    init = fixed_point.copy()\n",
    "    init[pos_mask] += np.random.normal(loc=0, scale=pos_noise, size=init[pos_mask].shape)\n",
    "    init[orien_mask] += np.random.normal(loc=0, scale=orien_noise, size=init[orien_mask].shape)\n",
    "    init[vel_mask] += np.random.normal(loc=0, scale=vel_noise, size=init[vel_mask].shape)\n",
    "    context.SetTime(0.0)\n",
    "    context.SetContinuousState(\n",
    "        init\n",
    "    )\n",
    "    simulator.Initialize()\n",
    "    simulator.AdvanceTo(controller_time_horizon)\n",
    "    print(simulator.get_actual_realtime_rate())"
   ]
  },
  {
   "cell_type": "code",
   "execution_count": null,
   "id": "aab39f1b",
   "metadata": {},
   "outputs": [],
   "source": []
  }
 ],
 "metadata": {
  "kernelspec": {
   "display_name": "Python 3 (ipykernel)",
   "language": "python",
   "name": "python3"
  },
  "language_info": {
   "codemirror_mode": {
    "name": "ipython",
    "version": 3
   },
   "file_extension": ".py",
   "mimetype": "text/x-python",
   "name": "python",
   "nbconvert_exporter": "python",
   "pygments_lexer": "ipython3",
   "version": "3.10.6"
  }
 },
 "nbformat": 4,
 "nbformat_minor": 5
}

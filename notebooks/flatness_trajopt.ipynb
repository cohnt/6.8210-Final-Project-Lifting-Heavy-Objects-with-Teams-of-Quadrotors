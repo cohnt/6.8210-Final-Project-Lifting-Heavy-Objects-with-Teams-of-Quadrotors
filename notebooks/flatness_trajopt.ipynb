{
 "cells": [
  {
   "cell_type": "code",
   "execution_count": 1,
   "id": "129429bf",
   "metadata": {
    "ExecuteTime": {
     "end_time": "2023-05-11T02:48:16.259766459Z",
     "start_time": "2023-05-11T02:48:16.162845339Z"
    }
   },
   "outputs": [],
   "source": [
    "%load_ext autoreload\n",
    "%autoreload 2"
   ]
  },
  {
   "cell_type": "code",
   "execution_count": 2,
   "id": "2d2fa3cd",
   "metadata": {
    "ExecuteTime": {
     "end_time": "2023-05-11T02:48:16.260599293Z",
     "start_time": "2023-05-11T02:48:16.218334710Z"
    }
   },
   "outputs": [],
   "source": [
    "import sys\n",
    "sys.path.append(\"../src\")"
   ]
  },
  {
   "cell_type": "code",
   "execution_count": 3,
   "id": "56074659",
   "metadata": {
    "ExecuteTime": {
     "end_time": "2023-05-11T02:48:16.562371144Z",
     "start_time": "2023-05-11T02:48:16.218704983Z"
    }
   },
   "outputs": [],
   "source": [
    "import numpy as np\n",
    "from pydrake.all import (\n",
    "    StartMeshcat,\n",
    "    Simulator,\n",
    "    DirectCollocation,\n",
    "    Solve,\n",
    "    PiecewisePolynomial\n",
    ")\n",
    "import matplotlib.pyplot as plt"
   ]
  },
  {
   "cell_type": "code",
   "execution_count": 4,
   "id": "c893be1f",
   "metadata": {
    "ExecuteTime": {
     "end_time": "2023-05-11T02:48:16.881556758Z",
     "start_time": "2023-05-11T02:48:16.562832977Z"
    }
   },
   "outputs": [],
   "source": [
    "from world import make_n_quadrotor_system\n",
    "from util import DisableCollisionChecking\n",
    "from stabilization import find_fixed_point_snopt, finite_horizon_lqr_stabilize_to_trajectory, add_controller_to_system\n",
    "from planning import demo_traj_for_three_quads"
   ]
  },
  {
   "cell_type": "code",
   "execution_count": 5,
   "id": "ed384c06",
   "metadata": {
    "ExecuteTime": {
     "end_time": "2023-05-11T02:48:16.897193494Z",
     "start_time": "2023-05-11T02:48:16.885157328Z"
    }
   },
   "outputs": [
    {
     "name": "stderr",
     "output_type": "stream",
     "text": [
      "INFO:drake:Meshcat listening for connections at http://localhost:7000\n"
     ]
    }
   ],
   "source": [
    "meshcat = StartMeshcat()"
   ]
  },
  {
   "cell_type": "code",
   "execution_count": 6,
   "id": "1855fb3b",
   "metadata": {
    "ExecuteTime": {
     "end_time": "2023-05-11T02:48:16.929241668Z",
     "start_time": "2023-05-11T02:48:16.894922049Z"
    }
   },
   "outputs": [],
   "source": [
    "np.random.seed(0)\n",
    "\n",
    "cable_length = 2\n",
    "cable_hooke_K = 10\n",
    "free_body_mass = 1\n",
    "n_quadrotors = 3\n",
    "quadrotor_input_limit = 3 # or None\n",
    "\n",
    "min_quadrotor_distance = 1 # or None\n",
    "min_cable_length = 2.1\n",
    "controller_time_horizon = 10"
   ]
  },
  {
   "cell_type": "code",
   "execution_count": 7,
   "id": "1811f030",
   "metadata": {
    "ExecuteTime": {
     "end_time": "2023-05-11T02:48:16.929826242Z",
     "start_time": "2023-05-11T02:48:16.908648356Z"
    }
   },
   "outputs": [],
   "source": [
    "diagram, plant = make_n_quadrotor_system(meshcat,\n",
    "                                         n_quadrotors,\n",
    "                                         cable_length,\n",
    "                                         cable_hooke_K,\n",
    "                                         free_body_mass)"
   ]
  },
  {
   "cell_type": "code",
   "execution_count": 8,
   "id": "135a61f8",
   "metadata": {
    "ExecuteTime": {
     "end_time": "2023-05-11T02:48:17.013244398Z",
     "start_time": "2023-05-11T02:48:16.928674853Z"
    }
   },
   "outputs": [],
   "source": [
    "quad_mass = 0.775\n",
    "quad_inertia = np.diag([0.0015, 0.0025, 0.0035])\n",
    "kF = 1.0\n",
    "kM = 0.0245\n",
    "arm_length = 0.15\n",
    "num_steps = 100\n",
    "\n",
    "quad_all_pos_traj, quad_all_rpy_traj, quad_all_vel_traj, quad_all_omega_traj,\\\n",
    "quad_all_us_traj, mass_pos_traj, mass_vel_traj, mass_quat_traj, mass_omega_traj\\\n",
    "= demo_traj_for_three_quads(free_body_mass, kF, kM, arm_length, quad_mass, quad_inertia, cable_hooke_K, cable_length, num_steps=num_steps)"
   ]
  },
  {
   "cell_type": "code",
   "execution_count": 9,
   "id": "2aa847ae",
   "metadata": {
    "ExecuteTime": {
     "end_time": "2023-05-11T02:48:17.054638975Z",
     "start_time": "2023-05-11T02:48:17.010946469Z"
    }
   },
   "outputs": [],
   "source": [
    "state_traj_points = []\n",
    "control_traj_points = []\n",
    "for i in range(len(quad_all_pos_traj)):\n",
    "    state_point = []\n",
    "    for j in range(n_quadrotors):\n",
    "        state_point += list(quad_all_pos_traj[i][j])\n",
    "        state_point += list(quad_all_rpy_traj[i][j])\n",
    "    state_point += list(mass_quat_traj[i])\n",
    "    state_point += list(mass_pos_traj[i])\n",
    "    for j in range(n_quadrotors):\n",
    "        state_point += list(quad_all_vel_traj[i][j])\n",
    "        state_point += list(quad_all_omega_traj[i][j])\n",
    "    state_point += list(mass_omega_traj[i])\n",
    "    state_point += list(mass_vel_traj[i])\n",
    "    \n",
    "    control_point = []\n",
    "    for j in range(n_quadrotors):\n",
    "        control_point += list(quad_all_us_traj[i][j])\n",
    "    \n",
    "    state_traj_points.append(state_point)\n",
    "    control_traj_points.append(control_point)\n",
    "\n",
    "state_traj_points = np.array(state_traj_points)\n",
    "control_traj_points = np.array(control_traj_points)\n",
    "\n",
    "breaks = np.linspace(0, 1, num_steps)\n",
    "state_traj = PiecewisePolynomial.FirstOrderHold(breaks, state_traj_points.T)\n",
    "input_traj = PiecewisePolynomial.FirstOrderHold(breaks, control_traj_points.T)"
   ]
  },
  {
   "cell_type": "code",
   "execution_count": 10,
   "id": "2a130a1b",
   "metadata": {
    "ExecuteTime": {
     "end_time": "2023-05-11T02:48:26.160700194Z",
     "start_time": "2023-05-11T02:48:17.054262354Z"
    }
   },
   "outputs": [],
   "source": [
    "Q_quadrotor_pos = [10.] * 6\n",
    "Q_quadrotor_vel = [1.] * 6\n",
    "Q_freebody_pos = [1.] * 4 + [10.] * 3\n",
    "Q_freebody_vel = [1.] * 3 + [1.] * 3\n",
    "Q_pos = Q_quadrotor_pos * n_quadrotors + Q_freebody_pos\n",
    "Q_vel = Q_quadrotor_vel * n_quadrotors + Q_freebody_vel\n",
    "Q = np.diag(Q_pos + Q_vel)\n",
    "R = np.eye(4 * n_quadrotors)\n",
    "\n",
    "lqr_controller = finite_horizon_lqr_stabilize_to_trajectory(diagram, state_traj, input_traj, Q, R)"
   ]
  },
  {
   "cell_type": "code",
   "execution_count": 11,
   "id": "ecc2999a",
   "metadata": {
    "ExecuteTime": {
     "end_time": "2023-05-11T02:48:26.193401069Z",
     "start_time": "2023-05-11T02:48:26.176074524Z"
    }
   },
   "outputs": [],
   "source": [
    "controlled_diagram, controlled_plant = add_controller_to_system(diagram, lqr_controller, limit=quadrotor_input_limit)"
   ]
  },
  {
   "cell_type": "code",
   "execution_count": 12,
   "id": "c2163a6f",
   "metadata": {
    "ExecuteTime": {
     "end_time": "2023-05-11T02:48:49.129777554Z",
     "start_time": "2023-05-11T02:48:26.191361365Z"
    }
   },
   "outputs": [
    {
     "ename": "KeyboardInterrupt",
     "evalue": "",
     "output_type": "error",
     "traceback": [
      "\u001B[0;31m---------------------------------------------------------------------------\u001B[0m",
      "\u001B[0;31mKeyboardInterrupt\u001B[0m                         Traceback (most recent call last)",
      "Cell \u001B[0;32mIn[12], line 41\u001B[0m\n\u001B[1;32m     37\u001B[0m context\u001B[38;5;241m.\u001B[39mSetContinuousState(\n\u001B[1;32m     38\u001B[0m     init\n\u001B[1;32m     39\u001B[0m )\n\u001B[1;32m     40\u001B[0m simulator\u001B[38;5;241m.\u001B[39mInitialize()\n\u001B[0;32m---> 41\u001B[0m \u001B[43msimulator\u001B[49m\u001B[38;5;241;43m.\u001B[39;49m\u001B[43mAdvanceTo\u001B[49m\u001B[43m(\u001B[49m\u001B[43mcontroller_time_horizon\u001B[49m\u001B[43m)\u001B[49m\n\u001B[1;32m     42\u001B[0m \u001B[38;5;28mprint\u001B[39m(simulator\u001B[38;5;241m.\u001B[39mget_actual_realtime_rate())\n",
      "File \u001B[0;32m~/Documents/Class/6.8210/QuadProj/src/tensile.py:132\u001B[0m, in \u001B[0;36mSpatialForceConcatinator_.<locals>.Impl.Concatenate\u001B[0;34m(self, context, output)\u001B[0m\n\u001B[1;32m    122\u001B[0m     \u001B[38;5;28mself\u001B[39m\u001B[38;5;241m.\u001B[39mInput_ports \u001B[38;5;241m=\u001B[39m [\u001B[38;5;28mself\u001B[39m\u001B[38;5;241m.\u001B[39mDeclareAbstractInputPort(\u001B[38;5;124mf\u001B[39m\u001B[38;5;124m\"\u001B[39m\u001B[38;5;124mSpatial_Force_\u001B[39m\u001B[38;5;132;01m{\u001B[39;00mi\u001B[38;5;132;01m}\u001B[39;00m\u001B[38;5;124m\"\u001B[39m,\n\u001B[1;32m    123\u001B[0m                                                       AbstractValue\u001B[38;5;241m.\u001B[39mMake([ExternallyAppliedSpatialForce_[T]()]))\n\u001B[1;32m    124\u001B[0m                         \u001B[38;5;28;01mfor\u001B[39;00m i \u001B[38;5;129;01min\u001B[39;00m \u001B[38;5;28mrange\u001B[39m(N_inputs)]\n\u001B[1;32m    126\u001B[0m     \u001B[38;5;28mself\u001B[39m\u001B[38;5;241m.\u001B[39mOutput_port \u001B[38;5;241m=\u001B[39m \u001B[38;5;28mself\u001B[39m\u001B[38;5;241m.\u001B[39mDeclareAbstractOutputPort(\u001B[38;5;124m\"\u001B[39m\u001B[38;5;124mSpatial_Forces\u001B[39m\u001B[38;5;124m\"\u001B[39m,\n\u001B[1;32m    127\u001B[0m                                                       \u001B[38;5;28;01mlambda\u001B[39;00m: AbstractValue\u001B[38;5;241m.\u001B[39mMake(\n\u001B[1;32m    128\u001B[0m                                                           [ExternallyAppliedSpatialForce_[T]()\n\u001B[1;32m    129\u001B[0m                                                            \u001B[38;5;28;01mfor\u001B[39;00m i \u001B[38;5;129;01min\u001B[39;00m \u001B[38;5;28mrange\u001B[39m(N_inputs)]),\n\u001B[1;32m    130\u001B[0m                                                       \u001B[38;5;28mself\u001B[39m\u001B[38;5;241m.\u001B[39mConcatenate)\n\u001B[0;32m--> 132\u001B[0m \u001B[38;5;28;01mdef\u001B[39;00m \u001B[38;5;21mConcatenate\u001B[39m(\u001B[38;5;28mself\u001B[39m, context, output):\n\u001B[1;32m    133\u001B[0m     out \u001B[38;5;241m=\u001B[39m []\n\u001B[1;32m    134\u001B[0m     \u001B[38;5;28;01mfor\u001B[39;00m port \u001B[38;5;129;01min\u001B[39;00m \u001B[38;5;28mself\u001B[39m\u001B[38;5;241m.\u001B[39mInput_ports:\n",
      "\u001B[0;31mKeyboardInterrupt\u001B[0m: "
     ]
    }
   ],
   "source": [
    "# Simulate the LQR controller\n",
    "\n",
    "simulator = Simulator(controlled_diagram)\n",
    "simulator.set_publish_every_time_step(True)\n",
    "simulator.set_target_realtime_rate(1.0)\n",
    "context = simulator.get_mutable_context()\n",
    "\n",
    "sg = diagram.GetSubsystemByName(\"scene_graph\")\n",
    "DisableCollisionChecking(sg, context)\n",
    "\n",
    "pos_noise = 0 #0.5\n",
    "orien_noise = 0 #0.25\n",
    "vel_noise = 0 #0.1\n",
    "\n",
    "vel_mask = np.array(\n",
    "    [False] * (6 * n_quadrotors + 7) +\n",
    "    [True] * (6 * n_quadrotors + 6)\n",
    ")\n",
    "pos_mask = np.array(\n",
    "    ([True] * 3 + [False] * 3) * n_quadrotors +\n",
    "    [False] * 4 + [True] * 3 + \n",
    "    ([True] * 3 + [False] * 3) * n_quadrotors +\n",
    "    [False] * 3 + [True] * 3\n",
    ")\n",
    "orien_mask = np.logical_not(pos_mask)\n",
    "\n",
    "pos_mask = np.logical_and(pos_mask, np.logical_not(vel_mask))\n",
    "orien_mask = np.logical_and(orien_mask, np.logical_not(vel_mask))\n",
    "\n",
    "# Simulate\n",
    "while True:\n",
    "    init = state_traj_points[0].copy()\n",
    "    init[pos_mask] += np.random.normal(loc=0, scale=pos_noise, size=init[pos_mask].shape)\n",
    "    init[orien_mask] += np.random.normal(loc=0, scale=orien_noise, size=init[orien_mask].shape)\n",
    "    init[vel_mask] += np.random.normal(loc=0, scale=vel_noise, size=init[vel_mask].shape)\n",
    "    context.SetTime(0.0)\n",
    "    context.SetContinuousState(\n",
    "        init\n",
    "    )\n",
    "    simulator.Initialize()\n",
    "    simulator.AdvanceTo(controller_time_horizon)\n",
    "    print(simulator.get_actual_realtime_rate())"
   ]
  }
 ],
 "metadata": {
  "kernelspec": {
   "display_name": "Python 3 (ipykernel)",
   "language": "python",
   "name": "python3"
  },
  "language_info": {
   "codemirror_mode": {
    "name": "ipython",
    "version": 3
   },
   "file_extension": ".py",
   "mimetype": "text/x-python",
   "name": "python",
   "nbconvert_exporter": "python",
   "pygments_lexer": "ipython3",
   "version": "3.10.6"
  }
 },
 "nbformat": 4,
 "nbformat_minor": 5
}

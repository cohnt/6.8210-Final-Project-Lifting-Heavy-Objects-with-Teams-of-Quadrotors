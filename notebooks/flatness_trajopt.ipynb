{
 "cells": [
  {
   "cell_type": "code",
   "execution_count": null,
   "id": "129429bf",
   "metadata": {},
   "outputs": [],
   "source": [
    "%load_ext autoreload\n",
    "%autoreload 2"
   ]
  },
  {
   "cell_type": "code",
   "execution_count": null,
   "id": "2d2fa3cd",
   "metadata": {},
   "outputs": [],
   "source": [
    "import sys\n",
    "sys.path.append(\"../src\")"
   ]
  },
  {
   "cell_type": "code",
   "execution_count": null,
   "id": "56074659",
   "metadata": {},
   "outputs": [],
   "source": [
    "import numpy as np\n",
    "from pydrake.all import (\n",
    "    StartMeshcat,\n",
    "    Simulator,\n",
    "    DirectCollocation,\n",
    "    Solve,\n",
    "    PiecewisePolynomial\n",
    ")"
   ]
  },
  {
   "cell_type": "code",
   "execution_count": null,
   "id": "c893be1f",
   "metadata": {},
   "outputs": [],
   "source": [
    "from world import make_n_quadrotor_system\n",
    "from util import DisableCollisionChecking\n",
    "from stabilization import find_fixed_point_snopt, finite_horizon_lqr_stabilize_to_trajectory, add_controller_to_system\n",
    "from planning import demo_traj_for_three_quads"
   ]
  },
  {
   "cell_type": "code",
   "execution_count": null,
   "id": "ed384c06",
   "metadata": {},
   "outputs": [],
   "source": [
    "meshcat = StartMeshcat()"
   ]
  },
  {
   "cell_type": "code",
   "execution_count": null,
   "id": "1855fb3b",
   "metadata": {},
   "outputs": [],
   "source": [
    "np.random.seed(0)\n",
    "\n",
    "cable_length = 2\n",
    "cable_hooke_K = 10\n",
    "free_body_mass = 1\n",
    "n_quadrotors = 3\n",
    "quadrotor_input_limit = 3 # or None\n",
    "\n",
    "min_quadrotor_distance = 1 # or None\n",
    "min_cable_length = 2.1\n",
    "controller_time_horizon = 10"
   ]
  },
  {
   "cell_type": "code",
   "execution_count": null,
   "id": "1811f030",
   "metadata": {},
   "outputs": [],
   "source": [
    "diagram, plant = make_n_quadrotor_system(meshcat,\n",
    "                                         n_quadrotors,\n",
    "                                         cable_length,\n",
    "                                         cable_hooke_K,\n",
    "                                         free_body_mass)"
   ]
  },
  {
   "cell_type": "code",
   "execution_count": null,
   "id": "135a61f8",
   "metadata": {},
   "outputs": [],
   "source": [
    "quad_mass = 0.775\n",
    "quad_inertia = np.diag([0.0015, 0.0025, 0.0035])\n",
    "kF = 1.0\n",
    "kM = 0.0245\n",
    "arm_length = 0.15\n",
    "num_steps = 100\n",
    "\n",
    "quad_all_pos_traj, quad_all_rpy_traj, quad_all_vel_traj, quad_all_omega_traj,\\\n",
    "quad_all_us_traj, mass_pos_traj, mass_vel_traj, mass_quat_traj, mass_omega_traj\\\n",
    "= demo_traj_for_three_quads(free_body_mass, kF, kM, arm_length, quad_mass, quad_inertia, cable_hooke_K, num_steps=num_steps)"
   ]
  },
  {
   "cell_type": "code",
   "execution_count": null,
   "id": "2aa847ae",
   "metadata": {},
   "outputs": [],
   "source": [
    "state_traj_points = []\n",
    "control_traj_points = []\n",
    "for i in range(len(quad_all_pos_traj)):\n",
    "    state_point = []\n",
    "    for j in range(n_quadrotors):\n",
    "        state_point += list(quad_all_pos_traj[i][j])\n",
    "        state_point += list(quad_all_rpy_traj[i][j])\n",
    "    state_point += list(mass_quat_traj[i])\n",
    "    state_point += list(mass_pos_traj[i])\n",
    "    for j in range(n_quadrotors):\n",
    "        state_point += list(quad_all_vel_traj[i][j])\n",
    "        state_point += list(quad_all_omega_traj[i][j])\n",
    "    state_point += list(mass_omega_traj[i])\n",
    "    state_point += list(mass_vel_traj[i])\n",
    "    \n",
    "    control_point = []\n",
    "    for j in range(n_quadrotors):\n",
    "        control_point += list(quad_all_us_traj[i][j])\n",
    "    \n",
    "    state_traj_points.append(state_point)\n",
    "    control_traj_points.append(control_point)\n",
    "\n",
    "state_traj_points = np.array(state_traj_points)\n",
    "control_traj_points = np.array(control_traj_points)\n",
    "\n",
    "breaks = np.linspace(0, 1, num_steps)\n",
    "state_traj = PiecewisePolynomial.FirstOrderHold(breaks, state_traj_points.T)\n",
    "input_traj = PiecewisePolynomial.FirstOrderHold(breaks, control_traj_points.T)"
   ]
  },
  {
   "cell_type": "code",
   "execution_count": null,
   "id": "2a130a1b",
   "metadata": {},
   "outputs": [],
   "source": [
    "Q_quadrotor_pos = [10.] * 6\n",
    "Q_quadrotor_vel = [1.] * 6\n",
    "Q_freebody_pos = [1.] * 4 + [10.] * 3\n",
    "Q_freebody_vel = [1.] * 3 + [1.] * 3\n",
    "Q_pos = Q_quadrotor_pos * n_quadrotors + Q_freebody_pos\n",
    "Q_vel = Q_quadrotor_vel * n_quadrotors + Q_freebody_vel\n",
    "Q = np.diag(Q_pos + Q_vel)\n",
    "R = np.eye(4 * n_quadrotors)\n",
    "\n",
    "lqr_controller = finite_horizon_lqr_stabilize_to_trajectory(diagram, state_traj, input_traj, Q, R)"
   ]
  },
  {
   "cell_type": "code",
   "execution_count": null,
   "id": "ecc2999a",
   "metadata": {},
   "outputs": [],
   "source": [
    "controlled_diagram, controlled_plant = add_controller_to_system(diagram, lqr_controller, limit=quadrotor_input_limit)"
   ]
  },
  {
   "cell_type": "code",
   "execution_count": null,
   "id": "c2163a6f",
   "metadata": {},
   "outputs": [],
   "source": [
    "# Simulate the LQR controller\n",
    "\n",
    "simulator = Simulator(controlled_diagram)\n",
    "simulator.set_publish_every_time_step(True)\n",
    "simulator.set_target_realtime_rate(1.0)\n",
    "context = simulator.get_mutable_context()\n",
    "\n",
    "sg = diagram.GetSubsystemByName(\"scene_graph\")\n",
    "DisableCollisionChecking(sg, context)\n",
    "\n",
    "pos_noise = 0 #0.5\n",
    "orien_noise = 0 #0.25\n",
    "vel_noise = 0 #0.1\n",
    "\n",
    "vel_mask = np.array(\n",
    "    [False] * (6 * n_quadrotors + 7) +\n",
    "    [True] * (6 * n_quadrotors + 6)\n",
    ")\n",
    "pos_mask = np.array(\n",
    "    ([True] * 3 + [False] * 3) * n_quadrotors +\n",
    "    [False] * 4 + [True] * 3 + \n",
    "    ([True] * 3 + [False] * 3) * n_quadrotors +\n",
    "    [False] * 3 + [True] * 3\n",
    ")\n",
    "orien_mask = np.logical_not(pos_mask)\n",
    "\n",
    "pos_mask = np.logical_and(pos_mask, np.logical_not(vel_mask))\n",
    "orien_mask = np.logical_and(orien_mask, np.logical_not(vel_mask))\n",
    "\n",
    "# Simulate\n",
    "while True:\n",
    "    init = state_traj_points[0].copy()\n",
    "    init[pos_mask] += np.random.normal(loc=0, scale=pos_noise, size=init[pos_mask].shape)\n",
    "    init[orien_mask] += np.random.normal(loc=0, scale=orien_noise, size=init[orien_mask].shape)\n",
    "    init[vel_mask] += np.random.normal(loc=0, scale=vel_noise, size=init[vel_mask].shape)\n",
    "    context.SetTime(0.0)\n",
    "    context.SetContinuousState(\n",
    "        init\n",
    "    )\n",
    "    simulator.Initialize()\n",
    "    simulator.AdvanceTo(controller_time_horizon)\n",
    "    print(simulator.get_actual_realtime_rate())"
   ]
  },
  {
   "cell_type": "code",
   "execution_count": null,
   "id": "d144ccd2",
   "metadata": {},
   "outputs": [],
   "source": []
  }
 ],
 "metadata": {
  "kernelspec": {
   "display_name": "Python 3 (ipykernel)",
   "language": "python",
   "name": "python3"
  },
  "language_info": {
   "codemirror_mode": {
    "name": "ipython",
    "version": 3
   },
   "file_extension": ".py",
   "mimetype": "text/x-python",
   "name": "python",
   "nbconvert_exporter": "python",
   "pygments_lexer": "ipython3",
   "version": "3.10.6"
  }
 },
 "nbformat": 4,
 "nbformat_minor": 5
}

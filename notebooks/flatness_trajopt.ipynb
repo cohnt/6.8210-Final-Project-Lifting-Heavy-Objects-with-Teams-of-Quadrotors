{
 "cells": [
  {
   "cell_type": "code",
   "execution_count": null,
   "id": "129429bf",
   "metadata": {
    "ExecuteTime": {
     "end_time": "2023-05-16T06:33:56.057682680Z",
     "start_time": "2023-05-16T06:33:56.046340604Z"
    }
   },
   "outputs": [],
   "source": [
    "%load_ext autoreload\n",
    "%autoreload 2"
   ]
  },
  {
   "cell_type": "code",
   "execution_count": null,
   "id": "2d2fa3cd",
   "metadata": {
    "ExecuteTime": {
     "end_time": "2023-05-16T13:05:02.838476429Z",
     "start_time": "2023-05-16T13:05:02.829818199Z"
    }
   },
   "outputs": [],
   "source": [
    "import os\n",
    "# os.environ[\"MOSEKLM_LICENSE_FILE\"] = '/home/seiji/mosek/mosek.lic'\n",
    "\n",
    "import sys\n",
    "sys.path.append(\"../src\")"
   ]
  },
  {
   "cell_type": "code",
   "execution_count": null,
   "id": "56074659",
   "metadata": {
    "ExecuteTime": {
     "end_time": "2023-05-16T13:05:04.110047831Z",
     "start_time": "2023-05-16T13:05:03.637459827Z"
    }
   },
   "outputs": [],
   "source": [
    "import numpy as np\n",
    "from pydrake.all import (\n",
    "    StartMeshcat,\n",
    "    Simulator,\n",
    "    DirectCollocation,\n",
    "    Solve,\n",
    "    PiecewisePolynomial\n",
    ")\n",
    "import matplotlib.pyplot as plt"
   ]
  },
  {
   "cell_type": "code",
   "execution_count": null,
   "id": "c893be1f",
   "metadata": {
    "ExecuteTime": {
     "end_time": "2023-05-16T13:05:04.294637605Z",
     "start_time": "2023-05-16T13:05:04.178450404Z"
    }
   },
   "outputs": [],
   "source": [
    "from world import make_n_quadrotor_system\n",
    "from util import DisableCollisionChecking\n",
    "from stabilization import find_fixed_point_snopt, finite_horizon_lqr_stabilize_to_trajectory, add_controller_to_system\n",
    "from planning import DifferentialFlatness\n"
   ]
  },
  {
   "cell_type": "code",
   "execution_count": null,
   "id": "ed384c06",
   "metadata": {
    "ExecuteTime": {
     "end_time": "2023-05-16T13:05:04.665045940Z",
     "start_time": "2023-05-16T13:05:04.659923843Z"
    }
   },
   "outputs": [],
   "source": [
    "meshcat = StartMeshcat()"
   ]
  },
  {
   "cell_type": "code",
   "execution_count": null,
   "id": "94aba32e",
   "metadata": {
    "ExecuteTime": {
     "end_time": "2023-05-16T13:05:05.234356961Z",
     "start_time": "2023-05-16T13:05:05.220658593Z"
    }
   },
   "outputs": [],
   "source": [
    "np.random.seed(0)\n",
    "\n",
    "cable_length = 2\n",
    "cable_hooke_K = 10\n",
    "free_body_mass = 5\n",
    "n_quadrotors = 4\n",
    "quadrotor_input_limit = None  # or None\n",
    "controller_time_horizon = 10"
   ]
  },
  {
   "cell_type": "code",
   "execution_count": null,
   "id": "1811f030",
   "metadata": {
    "ExecuteTime": {
     "end_time": "2023-05-16T13:05:07.330941452Z",
     "start_time": "2023-05-16T13:05:07.309623893Z"
    }
   },
   "outputs": [],
   "source": [
    "diagram, plant = make_n_quadrotor_system(meshcat,\n",
    "                                         n_quadrotors,\n",
    "                                         cable_length,\n",
    "                                         cable_hooke_K,\n",
    "                                         free_body_mass)"
   ]
  },
  {
   "cell_type": "code",
   "execution_count": null,
   "id": "77538e74",
   "metadata": {
    "ExecuteTime": {
     "end_time": "2023-05-16T13:05:07.693396084Z",
     "start_time": "2023-05-16T13:05:07.688796690Z"
    }
   },
   "outputs": [],
   "source": [
    "quad_mass = 0.775\n",
    "quad_inertia = np.diag([0.0015, 0.0025, 0.0035])\n",
    "kF = 1.0\n",
    "kM = 0.0245\n",
    "arm_length = 0.15\n",
    "\n",
    "diff_flat_output_backer = DifferentialFlatness(\n",
    "    free_body_mass,\n",
    "    cable_length,\n",
    "    cable_hooke_K,\n",
    "    kF,\n",
    "    kM,\n",
    "    arm_length,\n",
    "    quad_mass,\n",
    "    quad_inertia\n",
    ")"
   ]
  },
  {
   "cell_type": "code",
   "execution_count": null,
   "id": "de0a1906",
   "metadata": {
    "ExecuteTime": {
     "end_time": "2023-05-16T13:05:10.960540520Z",
     "start_time": "2023-05-16T13:05:10.828102377Z"
    }
   },
   "outputs": [],
   "source": [
    "# STRAIGHT LINE TRAJECTORY\n",
    "mass_state_0 = np.zeros(3)\n",
    "two_pi_over_three = 2.0 * np.pi / 3.0\n",
    "\n",
    "quad_poses0 = free_body_mass * 9.81 / 3 / cable_hooke_K * np.array([[np.cos(0), np.sin(0), 1.0],\n",
    "                                                                    [np.cos(two_pi_over_three),\n",
    "                                                                     np.sin(two_pi_over_three), 1.0],\n",
    "                                                                    [np.cos(2 * two_pi_over_three),\n",
    "                                                                     np.sin(2 * two_pi_over_three), 1.0]])\n",
    "\n",
    "mass_state_1 = np.array([0.0, 1.0, 0.0])\n",
    "quad_poses1 = free_body_mass * 9.81 / 3 / cable_hooke_K * np.array([[np.cos(0), np.sin(0), 1.0],\n",
    "                                                                    [np.cos(two_pi_over_three),\n",
    "                                                                     np.sin(two_pi_over_three), 1.0],\n",
    "                                                                    [np.cos(2 * two_pi_over_three),\n",
    "                                                                     np.sin(2 * two_pi_over_three), 1.0]])\n",
    "quad_poses1[:, 1] += 1\n",
    "\n",
    "\n",
    "mass_output0, tension_output0, yaw_output0 = diff_flat_output_backer.state_to_output(mass_state_0, quad_poses0, np.zeros(3))\n",
    "mass_output1, tension_output1, yaw_output1 = diff_flat_output_backer.state_to_output(mass_state_1, quad_poses1, np.zeros(3))\n",
    "\n",
    "output_traj = diff_flat_output_backer.straight_trajectory_from_outputA_to_outputB(\n",
    "    mass_output0,\n",
    "    tension_output0,\n",
    "    yaw_output0,\n",
    "    mass_output1,\n",
    "    tension_output1,\n",
    "    yaw_output1, tf=controller_time_horizon, dt=0.01)\n"
   ]
  },
  {
   "cell_type": "code",
   "execution_count": null,
   "id": "710fefb9",
   "metadata": {
    "ExecuteTime": {
     "end_time": "2023-05-16T06:35:53.380302784Z",
     "start_time": "2023-05-16T06:35:53.225166193Z"
    }
   },
   "outputs": [],
   "source": [
    "# WAYPOINT TRAJECTORY\n",
    "# times = [0.0, controller_time_horizon / 3, 2 * controller_time_horizon / 3, controller_time_horizon]\n",
    "waypoints = np.array([\n",
    "    [0.0, 0.0, 0.0],\n",
    "    [10.0, 0.0, 0.0]\n",
    "])\n",
    "times = np.linspace(0, controller_time_horizon, num=len(waypoints))\n",
    "\n",
    "output_traj = diff_flat_output_backer.waypoints_to_output_trajectory_for_three_quads(times, waypoints, n_quads=4)\n"
   ]
  },
  {
   "cell_type": "code",
   "execution_count": null,
   "id": "0d1ea6e5",
   "metadata": {
    "ExecuteTime": {
     "end_time": "2023-05-16T13:05:15.405681136Z",
     "start_time": "2023-05-16T13:05:14.046543027Z"
    }
   },
   "outputs": [],
   "source": [
    "# compute state output traj + controls from flat output variables\n",
    "quad_all_pos_traj, quad_all_rpy_traj, quad_all_vel_traj, quad_all_omega_traj, \\\n",
    "    quad_all_us_traj, mass_pos_traj, mass_vel_traj \\\n",
    "    = diff_flat_output_backer.output_traj_to_state_traj(*output_traj)\n",
    "\n",
    "mass_quat_traj = np.array([np.array([1.0, 0.0, 0.0, 0.0]) for _ in range(len(quad_all_pos_traj))])\n",
    "mass_omega_traj = np.array([np.zeros(3) for _ in range(len(quad_all_pos_traj))])\n",
    "num_steps = len(mass_pos_traj)\n",
    "# quants to plot\n",
    "plottables = [quad_all_pos_traj, quad_all_rpy_traj, quad_all_vel_traj, quad_all_omega_traj]\n",
    "plottables_names = ['quad pos', 'quad rpy', 'quad vel', 'quad ang vel']\n",
    "\n",
    "for plottable, name in zip(plottables, plottables_names):\n",
    "    plt.figure(figsize=(12, 4))\n",
    "    for quad_ix in range(n_quadrotors):\n",
    "        ax = plt.subplot(1, n_quadrotors, quad_ix + 1)\n",
    "        plottable = np.array(plottable)\n",
    "        for component_ix in range(plottable.shape[-1]):\n",
    "            ax.plot(plottable[:, quad_ix, component_ix], label='c%i' % component_ix)\n",
    "        ax.legend()\n",
    "        ax.set_ylabel(name)\n",
    "    plt.show()\n",
    "\n",
    "plottables = [mass_pos_traj, mass_quat_traj, mass_vel_traj, mass_omega_traj]\n",
    "plottables_names = ['mass pos', 'mass quat', 'mass vel', 'mass ang vel']\n",
    "\n",
    "plt.figure(figsize=(12, 4))\n",
    "for p_ix, (plottable, name) in enumerate(zip(plottables, plottables_names)):\n",
    "    ax = plt.subplot(1, len(plottables), p_ix + 1)\n",
    "    plottable = np.array(plottable)\n",
    "    for component_ix in range(plottable.shape[-1]):\n",
    "        ax.plot(plottable[:, component_ix], label='c%i' % component_ix)\n",
    "    ax.legend()\n",
    "    ax.set_ylabel(name)\n",
    "plt.show()\n"
   ]
  },
  {
   "cell_type": "code",
   "execution_count": null,
   "id": "2aa847ae",
   "metadata": {
    "ExecuteTime": {
     "end_time": "2023-05-16T13:05:38.423551276Z",
     "start_time": "2023-05-16T13:05:38.393014737Z"
    }
   },
   "outputs": [],
   "source": [
    "state_traj_points = []\n",
    "control_traj_points = []\n",
    "for i in range(len(quad_all_pos_traj)):\n",
    "    state_point = []\n",
    "    for j in range(n_quadrotors):\n",
    "        state_point += list(quad_all_pos_traj[i][j])\n",
    "        state_point += list(quad_all_rpy_traj[i][j])\n",
    "    state_point += list(mass_quat_traj[i])\n",
    "    state_point += list(mass_pos_traj[i])\n",
    "    for j in range(n_quadrotors):\n",
    "        state_point += list(quad_all_vel_traj[i][j])\n",
    "        state_point += list(quad_all_omega_traj[i][j])\n",
    "    state_point += list(mass_omega_traj[i])\n",
    "    state_point += list(mass_vel_traj[i])\n",
    "\n",
    "    control_point = []\n",
    "    for j in range(n_quadrotors):\n",
    "        control_point += list(quad_all_us_traj[i][j])\n",
    "\n",
    "    state_traj_points.append(state_point)\n",
    "    control_traj_points.append(control_point)\n",
    "\n",
    "state_traj_points = np.array(state_traj_points)\n",
    "control_traj_points = np.array(control_traj_points)\n",
    "\n",
    "breaks = np.linspace(0, 1, num_steps)\n",
    "state_traj = PiecewisePolynomial.FirstOrderHold(breaks, state_traj_points.T)\n",
    "input_traj = PiecewisePolynomial.FirstOrderHold(breaks, control_traj_points.T)"
   ]
  },
  {
   "cell_type": "code",
   "execution_count": null,
   "id": "2a130a1b",
   "metadata": {
    "ExecuteTime": {
     "end_time": "2023-05-16T13:06:04.399768613Z",
     "start_time": "2023-05-16T13:05:39.264404950Z"
    }
   },
   "outputs": [],
   "source": [
    "Q_quadrotor_pos = [10.] * 6\n",
    "Q_quadrotor_vel = [1.] * 6\n",
    "Q_freebody_pos = [1.] * 4 + [10.] * 3\n",
    "Q_freebody_vel = [1.] * 3 + [1.] * 3\n",
    "Q_pos = Q_quadrotor_pos * n_quadrotors + Q_freebody_pos\n",
    "Q_vel = Q_quadrotor_vel * n_quadrotors + Q_freebody_vel\n",
    "Q = np.diag(Q_pos + Q_vel)\n",
    "R = np.eye(4 * n_quadrotors)\n",
    "\n",
    "lqr_controller = finite_horizon_lqr_stabilize_to_trajectory(diagram, state_traj, input_traj, Q, R)"
   ]
  },
  {
   "cell_type": "code",
   "execution_count": null,
   "id": "ecc2999a",
   "metadata": {
    "ExecuteTime": {
     "end_time": "2023-05-16T13:06:04.440756024Z",
     "start_time": "2023-05-16T13:06:04.439090754Z"
    }
   },
   "outputs": [],
   "source": [
    "controlled_diagram, controlled_plant = add_controller_to_system(diagram, lqr_controller, limit=quadrotor_input_limit)"
   ]
  },
  {
   "cell_type": "code",
   "execution_count": null,
   "id": "c2163a6f",
   "metadata": {
    "ExecuteTime": {
     "end_time": "2023-05-16T13:06:36.734676070Z",
     "start_time": "2023-05-16T13:06:14.732675788Z"
    }
   },
   "outputs": [],
   "source": [
    "# Simulate the LQR controller\n",
    "\n",
    "simulator = Simulator(controlled_diagram)\n",
    "simulator.set_publish_every_time_step(True)\n",
    "simulator.set_target_realtime_rate(1)\n",
    "context = simulator.get_mutable_context()\n",
    "\n",
    "sg = diagram.GetSubsystemByName(\"scene_graph\")\n",
    "DisableCollisionChecking(sg, context)\n",
    "\n",
    "pos_noise = 0  #0.5\n",
    "orien_noise = 0  #0.25\n",
    "vel_noise = 0  #0.1\n",
    "\n",
    "vel_mask = np.array(\n",
    "    [False] * (6 * n_quadrotors + 7) +\n",
    "    [True] * (6 * n_quadrotors + 6)\n",
    ")\n",
    "pos_mask = np.array(\n",
    "    ([True] * 3 + [False] * 3) * n_quadrotors +\n",
    "    [False] * 4 + [True] * 3 +\n",
    "    ([True] * 3 + [False] * 3) * n_quadrotors +\n",
    "    [False] * 3 + [True] * 3\n",
    ")\n",
    "orien_mask = np.logical_not(pos_mask)\n",
    "\n",
    "pos_mask = np.logical_and(pos_mask, np.logical_not(vel_mask))\n",
    "orien_mask = np.logical_and(orien_mask, np.logical_not(vel_mask))\n",
    "\n",
    "# Simulate\n",
    "while True:\n",
    "    init = state_traj_points[0].copy()\n",
    "    init[pos_mask] += np.random.normal(loc=0, scale=pos_noise, size=init[pos_mask].shape)\n",
    "    init[orien_mask] += np.random.normal(loc=0, scale=orien_noise, size=init[orien_mask].shape)\n",
    "    init[vel_mask] += np.random.normal(loc=0, scale=vel_noise, size=init[vel_mask].shape)\n",
    "    context.SetTime(0.0)\n",
    "    context.SetContinuousState(\n",
    "        init\n",
    "    )\n",
    "    simulator.Initialize()\n",
    "    simulator.AdvanceTo(controller_time_horizon)\n",
    "    print(simulator.get_actual_realtime_rate())"
   ]
  },
  {
   "cell_type": "code",
   "execution_count": null,
   "id": "ad81ec17",
   "metadata": {
    "ExecuteTime": {
     "start_time": "2023-05-16T06:34:27.806169915Z"
    }
   },
   "outputs": [],
   "source": []
  }
 ],
 "metadata": {
  "kernelspec": {
   "display_name": "Python 3 (ipykernel)",
   "language": "python",
   "name": "python3"
  },
  "language_info": {
   "codemirror_mode": {
    "name": "ipython",
    "version": 3
   },
   "file_extension": ".py",
   "mimetype": "text/x-python",
   "name": "python",
   "nbconvert_exporter": "python",
   "pygments_lexer": "ipython3",
   "version": "3.10.6"
  }
 },
 "nbformat": 4,
 "nbformat_minor": 5
}

{
 "cells": [
  {
   "cell_type": "code",
   "execution_count": null,
   "id": "df7b41a3",
   "metadata": {},
   "outputs": [],
   "source": [
    "%load_ext autoreload\n",
    "%autoreload 2"
   ]
  },
  {
   "cell_type": "code",
   "execution_count": null,
   "id": "d241582b",
   "metadata": {},
   "outputs": [],
   "source": [
    "import sys\n",
    "sys.path.append(\"../src\")"
   ]
  },
  {
   "cell_type": "code",
   "execution_count": null,
   "id": "5fdb8d22",
   "metadata": {
    "ExecuteTime": {
     "end_time": "2023-04-24T13:50:12.021138Z",
     "start_time": "2023-04-24T13:50:11.409243Z"
    }
   },
   "outputs": [],
   "source": [
    "import numpy as np\n",
    "import pydot\n",
    "import pydrake\n",
    "from pydrake.all import (\n",
    "    DiagramBuilder,\n",
    "    MultibodyPlant,\n",
    "    Parser,\n",
    "    Propeller,\n",
    "    PropellerInfo,\n",
    "    RigidTransform,\n",
    "    StartMeshcat,\n",
    "    MeshcatVisualizer,\n",
    "    SceneGraph,\n",
    "    Simulator,\n",
    "    AddMultibodyPlantSceneGraph,\n",
    "    LeafSystem,\n",
    "    LeafSystem_,\n",
    "    ExternallyAppliedSpatialForce,\n",
    "    ExternallyAppliedSpatialForce_,\n",
    "    TemplateSystem,\n",
    "    AbstractValue,\n",
    "    SpatialForce,\n",
    "    SpatialForce_,\n",
    "    SpatialInertia,\n",
    "    UnitInertia,\n",
    "    CollisionFilterDeclaration,\n",
    "    GeometrySet,\n",
    "    Sphere\n",
    ")\n",
    "from pydrake.examples import (\n",
    "    QuadrotorGeometry\n",
    ")\n",
    "from IPython.display import display, SVG, Image\n",
    "\n",
    "from underactuated.scenarios import AddFloatingRpyJoint"
   ]
  },
  {
   "cell_type": "code",
   "execution_count": null,
   "id": "2309d45f",
   "metadata": {
    "ExecuteTime": {
     "end_time": "2023-04-24T13:50:12.026408Z",
     "start_time": "2023-04-24T13:50:12.023419Z"
    }
   },
   "outputs": [],
   "source": [
    "# Start the visualizer (run this cell only once, each instance consumes a port)\n",
    "meshcat = StartMeshcat()"
   ]
  },
  {
   "cell_type": "code",
   "execution_count": null,
   "id": "3c98e105",
   "metadata": {
    "ExecuteTime": {
     "end_time": "2023-04-24T13:55:04.132390Z",
     "start_time": "2023-04-24T13:55:04.126069Z"
    }
   },
   "outputs": [],
   "source": [
    "from world import make_n_quadrotor_system"
   ]
  },
  {
   "cell_type": "code",
   "execution_count": null,
   "id": "9883f070",
   "metadata": {
    "ExecuteTime": {
     "end_time": "2023-04-24T13:55:07.856466Z",
     "start_time": "2023-04-24T13:55:07.851726Z"
    }
   },
   "outputs": [],
   "source": [
    "diagram, plant = make_n_quadrotor_system(meshcat, 3)"
   ]
  },
  {
   "cell_type": "code",
   "execution_count": null,
   "id": "fdcd718e",
   "metadata": {
    "ExecuteTime": {
     "end_time": "2023-04-24T13:55:09.084335Z",
     "start_time": "2023-04-24T13:55:08.916993Z"
    }
   },
   "outputs": [],
   "source": [
    "# display(\n",
    "#     Image(\n",
    "#         pydot.graph_from_dot_data(plant.GetTopologyGraphvizString())[0].create_png()\n",
    "#     )\n",
    "# )"
   ]
  },
  {
   "cell_type": "code",
   "execution_count": null,
   "id": "8ee49a42",
   "metadata": {
    "ExecuteTime": {
     "end_time": "2023-04-24T13:55:11.848904Z",
     "start_time": "2023-04-24T13:55:11.683792Z"
    }
   },
   "outputs": [],
   "source": [
    "# display(\n",
    "#     Image(\n",
    "#         pydot.graph_from_dot_data(diagram.GetGraphvizString())[\n",
    "#             0\n",
    "#         ].create_png()\n",
    "#     )\n",
    "# )"
   ]
  },
  {
   "cell_type": "code",
   "execution_count": null,
   "id": "87bb4ca0",
   "metadata": {
    "ExecuteTime": {
     "end_time": "2023-04-24T13:55:15.482098Z",
     "start_time": "2023-04-24T13:55:15.476911Z"
    }
   },
   "outputs": [],
   "source": [
    "from util import CreateNullExternalForce, DisableCollisionChecking"
   ]
  },
  {
   "cell_type": "code",
   "execution_count": null,
   "id": "0ba552c7",
   "metadata": {
    "ExecuteTime": {
     "end_time": "2023-04-21T11:14:42.325596Z",
     "start_time": "2023-04-21T11:14:42.239961Z"
    }
   },
   "outputs": [],
   "source": [
    "simulator = Simulator(diagram)\n",
    "simulator.set_target_realtime_rate(1)\n",
    "context = simulator.get_mutable_context()\n",
    "\n",
    "u = diagram.GetInputPort(\"u\")\n",
    "u.FixValue(context, np.zeros(u.size()))\n",
    "\n",
    "sg = diagram.GetSubsystemByName(\"scene_graph\")\n",
    "DisableCollisionChecking(sg, context)\n",
    "\n",
    "# CreateNullExternalForce(diagram.GetSubsystemByName(\"plant\"))\n",
    "\n",
    "# combiner_system = diagram.GetSubsystemByName(\"combiner\")\n",
    "# combiner_empty_port = combiner_system.Input_ports[1]\n",
    "# combiner_empty_port.FixValue(combiner_system.GetMyContextFromRoot(context), [CreateNullExternalForce(plant)])\n",
    "\n",
    "simulator.set_target_realtime_rate(0.1)\n",
    "# Simulate\n",
    "while True:\n",
    "    context.SetTime(0.0)\n",
    "    context.SetContinuousState(\n",
    "        0.5\n",
    "        * np.random.randn(\n",
    "            context.num_continuous_states(),\n",
    "        )\n",
    "    )\n",
    "    simulator.Initialize()\n",
    "    simulator.AdvanceTo(1)\n",
    "\n"
   ]
  },
  {
   "cell_type": "code",
   "execution_count": null,
   "id": "df81ad18",
   "metadata": {
    "ExecuteTime": {
     "end_time": "2023-04-21T11:18:54.786401Z",
     "start_time": "2023-04-21T11:18:53.802284Z"
    }
   },
   "outputs": [],
   "source": [
    "simulator = Simulator(diagram)\n",
    "simulator.set_target_realtime_rate(1)\n",
    "context = simulator.get_mutable_context()\n",
    "\n",
    "u = diagram.GetInputPort(\"u\")\n",
    "u.FixValue(context, np.zeros(u.size()))\n",
    "\n",
    "sg = diagram.GetSubsystemByName(\"scene_graph\")\n",
    "DisableCollisionChecking(sg)\n",
    "\n",
    "\n",
    "context.SetTime(0.0)\n",
    "# context.SetContinuousState(\n",
    "#         0.25\n",
    "#         * np.random.randn(\n",
    "#             context.num_continuous_states(),\n",
    "#         )\n",
    "#     )\n",
    "simulator.Initialize()\n",
    "simulator.AdvanceTo(30)\n"
   ]
  }
 ],
 "metadata": {
  "kernelspec": {
   "display_name": "Python 3 (ipykernel)",
   "language": "python",
   "name": "python3"
  },
  "language_info": {
   "codemirror_mode": {
    "name": "ipython",
    "version": 3
   },
   "file_extension": ".py",
   "mimetype": "text/x-python",
   "name": "python",
   "nbconvert_exporter": "python",
   "pygments_lexer": "ipython3",
   "version": "3.10.6"
  }
 },
 "nbformat": 4,
 "nbformat_minor": 5
}

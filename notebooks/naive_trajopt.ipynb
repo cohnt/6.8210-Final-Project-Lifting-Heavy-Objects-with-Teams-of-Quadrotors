{
 "cells": [
  {
   "cell_type": "code",
   "execution_count": null,
   "id": "8714d713",
   "metadata": {},
   "outputs": [],
   "source": [
    "%load_ext autoreload\n",
    "%autoreload 2"
   ]
  },
  {
   "cell_type": "code",
   "execution_count": null,
   "id": "34f5d81c",
   "metadata": {},
   "outputs": [],
   "source": [
    "import sys\n",
    "sys.path.append(\"../src\")"
   ]
  },
  {
   "cell_type": "code",
   "execution_count": null,
   "id": "99f94a0c",
   "metadata": {},
   "outputs": [],
   "source": [
    "import numpy as np\n",
    "from pydrake.all import (\n",
    "    StartMeshcat,\n",
    "    Simulator,\n",
    "    DirectCollocation,\n",
    "    Solve,\n",
    "    PiecewisePolynomial\n",
    ")"
   ]
  },
  {
   "cell_type": "code",
   "execution_count": null,
   "id": "8d4e10bb",
   "metadata": {},
   "outputs": [],
   "source": [
    "from world import make_n_quadrotor_system\n",
    "from util import DisableCollisionChecking\n",
    "from stabilization import find_fixed_point_snopt, finite_horizon_lqr_stabilize_to_trajectory, add_controller_to_system"
   ]
  },
  {
   "cell_type": "code",
   "execution_count": null,
   "id": "d8fff26d",
   "metadata": {},
   "outputs": [],
   "source": [
    "meshcat = StartMeshcat()"
   ]
  },
  {
   "cell_type": "code",
   "execution_count": null,
   "id": "9c52803a",
   "metadata": {},
   "outputs": [],
   "source": [
    "np.random.seed(0)\n",
    "\n",
    "cable_length = 2\n",
    "cable_hooke_K = 10\n",
    "free_body_mass = 1\n",
    "n_quadrotors = 4\n",
    "quadrotor_input_limit = 3 # or None\n",
    "\n",
    "min_quadrotor_distance = 1 # or None\n",
    "min_cable_length = 2.1\n",
    "controller_time_horizon = 10"
   ]
  },
  {
   "cell_type": "code",
   "execution_count": null,
   "id": "1df0fc6b",
   "metadata": {},
   "outputs": [],
   "source": [
    "diagram, plant = make_n_quadrotor_system(meshcat,\n",
    "                                         n_quadrotors,\n",
    "                                         cable_length,\n",
    "                                         cable_hooke_K,\n",
    "                                         free_body_mass)"
   ]
  },
  {
   "cell_type": "code",
   "execution_count": null,
   "id": "1c8ffc50",
   "metadata": {},
   "outputs": [],
   "source": [
    "fixed_point, fixed_control = find_fixed_point_snopt(diagram,\n",
    "                                                    limit=quadrotor_input_limit,\n",
    "                                                    min_quadrotor_distance=min_quadrotor_distance,\n",
    "                                                    min_cable_length=min_cable_length)\n",
    "\n",
    "fixed_point_2 = fixed_point.copy()\n",
    "xyz = np.array([10, 0, 0])\n",
    "for i in range(n_quadrotors):\n",
    "    fixed_point_2[6*i:6*i+3] += xyz\n",
    "free_body_start = 6*n_quadrotors+4\n",
    "fixed_point_2[free_body_start:free_body_start+3] += xyz"
   ]
  },
  {
   "cell_type": "code",
   "execution_count": null,
   "id": "9a8bd286",
   "metadata": {},
   "outputs": [],
   "source": [
    "n_steps = 100\n",
    "min_time_step = 1e-5\n",
    "max_time_step = 1e-1\n",
    "\n",
    "trajopt = DirectCollocation(diagram, diagram.CreateDefaultContext(), n_steps, min_time_step, max_time_step)\n",
    "breaks = np.array([0,n_steps*min_time_step])\n",
    "control_knots = np.tile(fixed_control, (2,1)).T\n",
    "state_knots = np.vstack((fixed_point, fixed_point_2)).T\n",
    "u_init = PiecewisePolynomial.ZeroOrderHold(breaks, control_knots)\n",
    "x_init = PiecewisePolynomial.FirstOrderHold(breaks, state_knots)\n",
    "\n",
    "trajopt.SetInitialTrajectory(u_init, x_init)\n",
    "\n",
    "prog = trajopt.prog()\n",
    "\n",
    "prog.AddLinearEqualityConstraint(np.eye(len(fixed_point)), fixed_point, trajopt.initial_state())\n",
    "prog.AddLinearEqualityConstraint(np.eye(len(fixed_point)), fixed_point_2, trajopt.final_state())\n",
    "for i in range(n_steps):\n",
    "    limit = np.ones(4*n_quadrotors) * quadrotor_input_limit\n",
    "    prog.AddBoundingBoxConstraint(-limit, limit, trajopt.input(i))\n",
    "    \n",
    "result = Solve(prog)\n",
    "print(result.is_success())"
   ]
  },
  {
   "cell_type": "code",
   "execution_count": null,
   "id": "eef9cfa4",
   "metadata": {},
   "outputs": [],
   "source": [
    "input_traj = trajopt.ReconstructInputTrajectory(result)\n",
    "state_traj = trajopt.ReconstructStateTrajectory(result)\n",
    "\n",
    "# Make an LQR controller\n",
    "\n",
    "Q_quadrotor_pos = [10.] * 6\n",
    "Q_quadrotor_vel = [1.] * 6\n",
    "Q_freebody_pos = [1.] * 4 + [10.] * 3\n",
    "Q_freebody_vel = [1.] * 3 + [1.] * 3\n",
    "Q_pos = Q_quadrotor_pos * n_quadrotors + Q_freebody_pos\n",
    "Q_vel = Q_quadrotor_vel * n_quadrotors + Q_freebody_vel\n",
    "Q = np.diag(Q_pos + Q_vel)\n",
    "R = np.eye(4 * n_quadrotors)\n",
    "\n",
    "lqr_controller = finite_horizon_lqr_stabilize_to_trajectory(diagram, state_traj, input_traj, Q, R)"
   ]
  },
  {
   "cell_type": "code",
   "execution_count": null,
   "id": "dd231af1",
   "metadata": {},
   "outputs": [],
   "source": []
  }
 ],
 "metadata": {
  "kernelspec": {
   "display_name": "Python 3 (ipykernel)",
   "language": "python",
   "name": "python3"
  },
  "language_info": {
   "codemirror_mode": {
    "name": "ipython",
    "version": 3
   },
   "file_extension": ".py",
   "mimetype": "text/x-python",
   "name": "python",
   "nbconvert_exporter": "python",
   "pygments_lexer": "ipython3",
   "version": "3.10.6"
  }
 },
 "nbformat": 4,
 "nbformat_minor": 5
}

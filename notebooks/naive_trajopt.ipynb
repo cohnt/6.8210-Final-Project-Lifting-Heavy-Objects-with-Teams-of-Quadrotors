{
 "cells": [
  {
   "cell_type": "code",
   "execution_count": null,
   "id": "2abebd8e",
   "metadata": {},
   "outputs": [],
   "source": [
    "%load_ext autoreload\n",
    "%autoreload 2"
   ]
  },
  {
   "cell_type": "code",
   "execution_count": null,
   "id": "e0503ae9",
   "metadata": {},
   "outputs": [],
   "source": [
    "import sys\n",
    "sys.path.append(\"../src\")"
   ]
  },
  {
   "cell_type": "code",
   "execution_count": null,
   "id": "f53b62ff",
   "metadata": {},
   "outputs": [],
   "source": [
    "import numpy as np\n",
    "from pydrake.all import (\n",
    "    StartMeshcat,\n",
    "    Simulator,\n",
    "    DirectCollocation,\n",
    "    Solve,\n",
    "    PiecewisePolynomial\n",
    ")"
   ]
  },
  {
   "cell_type": "code",
   "execution_count": null,
   "id": "608942fa",
   "metadata": {},
   "outputs": [],
   "source": [
    "from world import make_n_quadrotor_system\n",
    "from util import DisableCollisionChecking\n",
    "from stabilization import find_fixed_point_snopt, finite_horizon_lqr_stabilize_to_trajectory, add_controller_to_system"
   ]
  },
  {
   "cell_type": "code",
   "execution_count": null,
   "id": "07423bb1",
   "metadata": {},
   "outputs": [],
   "source": [
    "meshcat = StartMeshcat()"
   ]
  },
  {
   "cell_type": "code",
   "execution_count": null,
   "id": "6f4ef719",
   "metadata": {},
   "outputs": [],
   "source": [
    "np.random.seed(0)\n",
    "\n",
    "cable_length = 2\n",
    "cable_hooke_K = 10\n",
    "free_body_mass = 1\n",
    "n_quadrotors = 4\n",
    "quadrotor_input_limit = 3 # or None\n",
    "\n",
    "min_quadrotor_distance = 1 # or None\n",
    "min_cable_length = 2.1\n",
    "controller_time_horizon = 10"
   ]
  },
  {
   "cell_type": "code",
   "execution_count": null,
   "id": "41448e11",
   "metadata": {},
   "outputs": [],
   "source": [
    "diagram, plant = make_n_quadrotor_system(meshcat,\n",
    "                                         n_quadrotors,\n",
    "                                         cable_length,\n",
    "                                         cable_hooke_K,\n",
    "                                         free_body_mass)"
   ]
  },
  {
   "cell_type": "code",
   "execution_count": null,
   "id": "0da69b0a",
   "metadata": {},
   "outputs": [],
   "source": [
    "fixed_point, fixed_control = find_fixed_point_snopt(diagram,\n",
    "                                                    limit=quadrotor_input_limit,\n",
    "                                                    min_quadrotor_distance=min_quadrotor_distance,\n",
    "                                                    min_cable_length=min_cable_length)\n",
    "\n",
    "fixed_point_2 = fixed_point.copy()\n",
    "xyz = np.array([10, 0, 0])\n",
    "for i in range(n_quadrotors):\n",
    "    fixed_point_2[6*i:6*i+3] += xyz\n",
    "free_body_start = 6*n_quadrotors+4\n",
    "fixed_point_2[free_body_start:free_body_start+3] += xyz"
   ]
  },
  {
   "cell_type": "code",
   "execution_count": null,
   "id": "1d524cba",
   "metadata": {},
   "outputs": [],
   "source": [
    "n_steps = 100\n",
    "min_time_step = 1e-5\n",
    "max_time_step = 1e-1\n",
    "\n",
    "trajopt = DirectCollocation(diagram, diagram.CreateDefaultContext(), n_steps, min_time_step, max_time_step)\n",
    "breaks = np.array([0,n_steps*min_time_step])\n",
    "control_knots = np.tile(fixed_control, (2,1)).T\n",
    "state_knots = np.vstack((fixed_point, fixed_point_2)).T\n",
    "u_init = PiecewisePolynomial.ZeroOrderHold(breaks, control_knots)\n",
    "x_init = PiecewisePolynomial.FirstOrderHold(breaks, state_knots)\n",
    "\n",
    "trajopt.SetInitialTrajectory(u_init, x_init)\n",
    "\n",
    "prog = trajopt.prog()\n",
    "\n",
    "prog.AddLinearEqualityConstraint(np.eye(len(fixed_point)), fixed_point, trajopt.initial_state())\n",
    "prog.AddLinearEqualityConstraint(np.eye(len(fixed_point)), fixed_point_2, trajopt.final_state())\n",
    "for i in range(n_steps):\n",
    "    limit = np.ones(4*n_quadrotors) * quadrotor_input_limit\n",
    "    prog.AddBoundingBoxConstraint(-limit, limit, trajopt.input(i))\n",
    "    \n",
    "result = Solve(prog)\n",
    "print(result.is_success())"
   ]
  },
  {
   "cell_type": "code",
   "execution_count": null,
   "id": "12e350a4",
   "metadata": {},
   "outputs": [],
   "source": [
    "input_traj = trajopt.ReconstructInputTrajectory(result)\n",
    "state_traj = trajopt.ReconstructStateTrajectory(result)\n",
    "\n",
    "# Make an LQR controller\n",
    "\n",
    "Q_quadrotor_pos = [10.] * 6\n",
    "Q_quadrotor_vel = [1.] * 6\n",
    "Q_freebody_pos = [1.] * 4 + [10.] * 3\n",
    "Q_freebody_vel = [1.] * 3 + [1.] * 3\n",
    "Q_pos = Q_quadrotor_pos * n_quadrotors + Q_freebody_pos\n",
    "Q_vel = Q_quadrotor_vel * n_quadrotors + Q_freebody_vel\n",
    "Q = np.diag(Q_pos + Q_vel)\n",
    "R = np.eye(4 * n_quadrotors)\n",
    "\n",
    "lqr_controller = finite_horizon_lqr_stabilize_to_trajectory(diagram, state_traj, input_traj, Q, R)"
   ]
  },
  {
   "cell_type": "code",
   "execution_count": null,
   "id": "072b3a6c",
   "metadata": {},
   "outputs": [],
   "source": [
    "controlled_diagram, controlled_plant = add_controller_to_system(diagram, lqr_controller, limit=quadrotor_input_limit)"
   ]
  },
  {
   "cell_type": "code",
   "execution_count": null,
   "id": "ea2f2f4d",
   "metadata": {},
   "outputs": [],
   "source": [
    "# Simulate the LQR controller\n",
    "\n",
    "simulator = Simulator(controlled_diagram)\n",
    "simulator.set_publish_every_time_step(True)\n",
    "simulator.set_target_realtime_rate(1.0)\n",
    "context = simulator.get_mutable_context()\n",
    "\n",
    "sg = diagram.GetSubsystemByName(\"scene_graph\")\n",
    "DisableCollisionChecking(sg, context)\n",
    "\n",
    "pos_noise = 0 #0.5\n",
    "orien_noise = 0 #0.25\n",
    "vel_noise = 0 #0.1\n",
    "\n",
    "vel_mask = np.array(\n",
    "    [False] * (6 * n_quadrotors + 7) +\n",
    "    [True] * (6 * n_quadrotors + 6)\n",
    ")\n",
    "pos_mask = np.array(\n",
    "    ([True] * 3 + [False] * 3) * n_quadrotors +\n",
    "    [False] * 4 + [True] * 3 + \n",
    "    ([True] * 3 + [False] * 3) * n_quadrotors +\n",
    "    [False] * 3 + [True] * 3\n",
    ")\n",
    "orien_mask = np.logical_not(pos_mask)\n",
    "\n",
    "pos_mask = np.logical_and(pos_mask, np.logical_not(vel_mask))\n",
    "orien_mask = np.logical_and(orien_mask, np.logical_not(vel_mask))\n",
    "\n",
    "# Simulate\n",
    "while True:\n",
    "    init = fixed_point.copy()\n",
    "    init[pos_mask] += np.random.normal(loc=0, scale=pos_noise, size=init[pos_mask].shape)\n",
    "    init[orien_mask] += np.random.normal(loc=0, scale=orien_noise, size=init[orien_mask].shape)\n",
    "    init[vel_mask] += np.random.normal(loc=0, scale=vel_noise, size=init[vel_mask].shape)\n",
    "    context.SetTime(0.0)\n",
    "    context.SetContinuousState(\n",
    "        init\n",
    "    )\n",
    "    simulator.Initialize()\n",
    "    simulator.AdvanceTo(controller_time_horizon)\n",
    "    print(simulator.get_actual_realtime_rate())"
   ]
  },
  {
   "cell_type": "code",
   "execution_count": null,
   "id": "0afa20bf",
   "metadata": {},
   "outputs": [],
   "source": []
  }
 ],
 "metadata": {
  "kernelspec": {
   "display_name": "Python 3 (ipykernel)",
   "language": "python",
   "name": "python3"
  },
  "language_info": {
   "codemirror_mode": {
    "name": "ipython",
    "version": 3
   },
   "file_extension": ".py",
   "mimetype": "text/x-python",
   "name": "python",
   "nbconvert_exporter": "python",
   "pygments_lexer": "ipython3",
   "version": "3.10.6"
  }
 },
 "nbformat": 4,
 "nbformat_minor": 5
}

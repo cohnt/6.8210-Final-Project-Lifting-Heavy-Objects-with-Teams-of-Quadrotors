{
 "cells": [
  {
   "cell_type": "code",
   "execution_count": null,
   "id": "9e2c24a6",
   "metadata": {},
   "outputs": [],
   "source": [
    "import numpy as np\n",
    "import pydot\n",
    "from pydrake.all import (\n",
    "    DiagramBuilder,\n",
    "    MultibodyPlant,\n",
    "    Parser,\n",
    "    Propeller,\n",
    "    PropellerInfo,\n",
    "    RigidTransform,\n",
    "    StartMeshcat,\n",
    "    MeshcatVisualizer,\n",
    "    SceneGraph,\n",
    "    Simulator\n",
    ")\n",
    "from pydrake.examples import (\n",
    "    QuadrotorGeometry\n",
    ")\n",
    "from IPython.display import display, SVG\n",
    "\n",
    "from underactuated.scenarios import AddFloatingRpyJoint"
   ]
  },
  {
   "cell_type": "code",
   "execution_count": null,
   "id": "6be45fa6",
   "metadata": {},
   "outputs": [],
   "source": [
    "# Start the visualizer (run this cell only once, each instance consumes a port)\n",
    "meshcat = StartMeshcat()"
   ]
  },
  {
   "cell_type": "code",
   "execution_count": null,
   "id": "22024891",
   "metadata": {},
   "outputs": [],
   "source": [
    "def make_n_quadrotor_system(n):\n",
    "    builder = DiagramBuilder()\n",
    "    # The MultibodyPlant handles f=ma, but doesn't know about propellers.\n",
    "    plant = builder.AddSystem(MultibodyPlant(0.0))\n",
    "    parser = Parser(plant)\n",
    "    parser.SetAutoRenaming(True)\n",
    "    quadrotor_model_instances = []\n",
    "    for i in range(n):\n",
    "        (model_instance,) = parser.AddModelsFromUrl(\n",
    "            \"package://drake/examples/quadrotor/quadrotor.urdf\"\n",
    "        )\n",
    "        quadrotor_model_instances.append(model_instance)\n",
    "        # By default the multibody has a quaternion floating base.  To match\n",
    "        # QuadrotorPlant, we can manually add a FloatingRollPitchYaw joint. We set\n",
    "        # `use_ball_rpy` to false because the BallRpyJoint uses angular velocities\n",
    "        # instead of ṙ, ṗ, ẏ.\n",
    "        AddFloatingRpyJoint(\n",
    "            plant,\n",
    "            plant.GetFrameByName(\"base_link\", model_instance),\n",
    "            model_instance,\n",
    "            use_ball_rpy=False,\n",
    "        )\n",
    "    \n",
    "    plant.Finalize()\n",
    "\n",
    "    # Default parameters from quadrotor_plant.cc:\n",
    "    L = 0.15  # Length of the arms (m).\n",
    "    kF = 1.0  # Force input constant.\n",
    "    kM = 0.0245  # Moment input constant.\n",
    "    \n",
    "    # Now we can add in propellers as an external force on the MultibodyPlant.\n",
    "    prop_info = []\n",
    "    for model_instance in quadrotor_model_instances:\n",
    "        body_index = plant.GetBodyByName(\"base_link\", model_instance).index()\n",
    "        # Note: Rotors 0 and 2 rotate one way and rotors 1 and 3 rotate the other.\n",
    "        prop_info += [\n",
    "            PropellerInfo(body_index, RigidTransform([L, 0, 0]), kF, kM),\n",
    "            PropellerInfo(body_index, RigidTransform([0, L, 0]), kF, -kM),\n",
    "            PropellerInfo(body_index, RigidTransform([-L, 0, 0]), kF, kM),\n",
    "            PropellerInfo(body_index, RigidTransform([0, -L, 0]), kF, -kM),\n",
    "        ]\n",
    "\n",
    "    propellers = builder.AddNamedSystem(\"propeller\", Propeller(prop_info))\n",
    "    builder.Connect(\n",
    "        propellers.get_output_port(),\n",
    "        plant.get_applied_spatial_force_input_port(),\n",
    "    )\n",
    "    builder.Connect(\n",
    "        plant.get_body_poses_output_port(),\n",
    "        propellers.get_body_poses_input_port(),\n",
    "    )\n",
    "    builder.ExportInput(propellers.get_command_input_port(), \"u\")\n",
    "    \n",
    "    # Set up meshcat\n",
    "    scene_graph = builder.AddSystem(SceneGraph())\n",
    "    for model_instance in quadrotor_model_instances:\n",
    "        QuadrotorGeometry.AddToBuilder(\n",
    "            builder, plant.get_state_output_port(model_instance), scene_graph\n",
    "        )\n",
    "    MeshcatVisualizer.AddToBuilder(builder, scene_graph, meshcat)\n",
    "    \n",
    "    return builder.Build(), plant"
   ]
  },
  {
   "cell_type": "code",
   "execution_count": null,
   "id": "c8021c0a",
   "metadata": {},
   "outputs": [],
   "source": [
    "diagram, plant = make_n_quadrotor_system(5)"
   ]
  },
  {
   "cell_type": "code",
   "execution_count": null,
   "id": "4e9abe6a",
   "metadata": {},
   "outputs": [],
   "source": [
    "display(\n",
    "    SVG(\n",
    "        pydot.graph_from_dot_data(plant.GetTopologyGraphvizString())[0].create_svg()\n",
    "    )\n",
    ")"
   ]
  },
  {
   "cell_type": "code",
   "execution_count": null,
   "id": "02cbe2f7",
   "metadata": {},
   "outputs": [],
   "source": [
    "display(\n",
    "    SVG(\n",
    "        pydot.graph_from_dot_data(diagram.GetGraphvizString())[\n",
    "            0\n",
    "        ].create_svg()\n",
    "    )\n",
    ")"
   ]
  },
  {
   "cell_type": "code",
   "execution_count": null,
   "id": "f350257e",
   "metadata": {},
   "outputs": [],
   "source": [
    "diagram.GetInputPort(\"u\").size()"
   ]
  },
  {
   "cell_type": "code",
   "execution_count": null,
   "id": "0de75acf",
   "metadata": {},
   "outputs": [],
   "source": [
    "simulator = Simulator(diagram)\n",
    "simulator.set_target_realtime_rate(1.0)\n",
    "context = simulator.get_mutable_context()\n",
    "\n",
    "u = diagram.GetInputPort(\"u\")\n",
    "u.FixValue(context, np.zeros(u.size()))\n",
    "\n",
    "# Simulate\n",
    "for i in range(5):\n",
    "    context.SetTime(0.0)\n",
    "    context.SetContinuousState(\n",
    "        0.5\n",
    "        * np.random.randn(\n",
    "            context.num_continuous_states(),\n",
    "        )\n",
    "    )\n",
    "    simulator.Initialize()\n",
    "    simulator.AdvanceTo(4.0)\n"
   ]
  }
 ],
 "metadata": {
  "kernelspec": {
   "display_name": "Python 3 (ipykernel)",
   "language": "python",
   "name": "python3"
  },
  "language_info": {
   "codemirror_mode": {
    "name": "ipython",
    "version": 3
   },
   "file_extension": ".py",
   "mimetype": "text/x-python",
   "name": "python",
   "nbconvert_exporter": "python",
   "pygments_lexer": "ipython3",
   "version": "3.10.6"
  }
 },
 "nbformat": 4,
 "nbformat_minor": 5
}

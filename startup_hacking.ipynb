{
 "cells": [
  {
   "cell_type": "code",
   "execution_count": null,
   "id": "c1f88869",
   "metadata": {},
   "outputs": [],
   "source": [
    "import numpy as np\n",
    "import pydot\n",
    "from pydrake.all import (\n",
    "    DiagramBuilder,\n",
    "    MultibodyPlant,\n",
    "    Parser,\n",
    "    Propeller,\n",
    "    PropellerInfo,\n",
    "    RigidTransform,\n",
    ")\n",
    "from IPython.display import display, SVG\n",
    "\n",
    "from underactuated.scenarios import AddFloatingRpyJoint"
   ]
  },
  {
   "cell_type": "code",
   "execution_count": null,
   "id": "b5f74e94",
   "metadata": {},
   "outputs": [],
   "source": [
    "def make_n_quadrotor_system(n):\n",
    "    builder = DiagramBuilder()\n",
    "    # The MultibodyPlant handles f=ma, but doesn't know about propellers.\n",
    "    plant = builder.AddSystem(MultibodyPlant(0.0))\n",
    "    parser = Parser(plant)\n",
    "    for _ in range(n):\n",
    "        (model_instance,) = parser.AddModelsFromUrl(\n",
    "            \"package://drake/examples/quadrotor/quadrotor.urdf\"\n",
    "        )\n",
    "        # By default the multibody has a quaternion floating base.  To match\n",
    "        # QuadrotorPlant, we can manually add a FloatingRollPitchYaw joint. We set\n",
    "        # `use_ball_rpy` to false because the BallRpyJoint uses angular velocities\n",
    "        # instead of ṙ, ṗ, ẏ.\n",
    "        AddFloatingRpyJoint(\n",
    "            plant,\n",
    "            plant.GetFrameByName(\"base_link\"),\n",
    "            model_instance,\n",
    "            use_ball_rpy=False,\n",
    "        )\n",
    "        \n",
    "    plant.Finalize()\n",
    "\n",
    "    # Default parameters from quadrotor_plant.cc:\n",
    "    L = 0.15  # Length of the arms (m).\n",
    "    kF = 1.0  # Force input constant.\n",
    "    kM = 0.0245  # Moment input constant.\n",
    "    \n",
    "    # Now we can add in propellers as an external force on the MultibodyPlant.\n",
    "    prop_info = []\n",
    "    for _ in range(n):\n",
    "        body_index = plant.GetBodyByName(\"base_link\").index()\n",
    "        # Note: Rotors 0 and 2 rotate one way and rotors 1 and 3 rotate the other.\n",
    "        prop_info += [\n",
    "            PropellerInfo(body_index, RigidTransform([L, 0, 0]), kF, kM),\n",
    "            PropellerInfo(body_index, RigidTransform([0, L, 0]), kF, -kM),\n",
    "            PropellerInfo(body_index, RigidTransform([-L, 0, 0]), kF, kM),\n",
    "            PropellerInfo(body_index, RigidTransform([0, -L, 0]), kF, -kM),\n",
    "        ]\n",
    "\n",
    "    propellers = builder.AddSystem(Propeller(prop_info))\n",
    "    builder.Connect(\n",
    "        propellers.get_output_port(),\n",
    "        plant.get_applied_spatial_force_input_port(),\n",
    "    )\n",
    "    builder.Connect(\n",
    "        plant.get_body_poses_output_port(),\n",
    "        propellers.get_body_poses_input_port(),\n",
    "    )\n",
    "    builder.ExportInput(propellers.get_command_input_port(), \"u\")\n",
    "\n",
    "    return builder.Build(), plant"
   ]
  },
  {
   "cell_type": "code",
   "execution_count": null,
   "id": "b84a03af",
   "metadata": {},
   "outputs": [],
   "source": [
    "diagram, plant = make_n_quadrotor_system(1)"
   ]
  },
  {
   "cell_type": "code",
   "execution_count": null,
   "id": "ecb5edee",
   "metadata": {},
   "outputs": [],
   "source": [
    "display(\n",
    "    SVG(\n",
    "        pydot.graph_from_dot_data(diagram.GetGraphvizString())[\n",
    "            0\n",
    "        ].create_svg()\n",
    "    )\n",
    ")"
   ]
  }
 ],
 "metadata": {
  "kernelspec": {
   "display_name": "Python 3 (ipykernel)",
   "language": "python",
   "name": "python3"
  },
  "language_info": {
   "codemirror_mode": {
    "name": "ipython",
    "version": 3
   },
   "file_extension": ".py",
   "mimetype": "text/x-python",
   "name": "python",
   "nbconvert_exporter": "python",
   "pygments_lexer": "ipython3",
   "version": "3.10.6"
  }
 },
 "nbformat": 4,
 "nbformat_minor": 5
}
